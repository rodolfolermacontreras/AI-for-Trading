{
 "cells": [
  {
   "cell_type": "markdown",
   "metadata": {},
   "source": [
    "# Text Processing\n",
    "\n",
    "## Capturing Text Data\n",
    "\n",
    "### Plain Text"
   ]
  },
  {
   "cell_type": "code",
   "execution_count": 1,
   "metadata": {},
   "outputs": [
    {
     "name": "stdout",
     "output_type": "stream",
     "text": [
      "Hieroglyphic writing dates from c. 3000 BC, and is composed of hundreds of symbols. A hieroglyph can represent a word, a sound, or a silent determinative; and the same symbol can serve different purposes in different contexts. Hieroglyphs were a formal script, used on stone monuments and in tombs, that could be as detailed as individual works of art.\n",
      "\n"
     ]
    }
   ],
   "source": [
    "import os\n",
    "\n",
    "# Read in a plain text file\n",
    "with open(os.path.join(\"data\", \"hieroglyph.txt\"), \"r\") as f:\n",
    "    text = f.read()\n",
    "    print(text)"
   ]
  },
  {
   "cell_type": "markdown",
   "metadata": {},
   "source": [
    "### Tabular Data"
   ]
  },
  {
   "cell_type": "code",
   "execution_count": 2,
   "metadata": {
    "scrolled": true
   },
   "outputs": [
    {
     "data": {
      "text/html": [
       "<div>\n",
       "<style scoped>\n",
       "    .dataframe tbody tr th:only-of-type {\n",
       "        vertical-align: middle;\n",
       "    }\n",
       "\n",
       "    .dataframe tbody tr th {\n",
       "        vertical-align: top;\n",
       "    }\n",
       "\n",
       "    .dataframe thead th {\n",
       "        text-align: right;\n",
       "    }\n",
       "</style>\n",
       "<table border=\"1\" class=\"dataframe\">\n",
       "  <thead>\n",
       "    <tr style=\"text-align: right;\">\n",
       "      <th></th>\n",
       "      <th>publisher</th>\n",
       "      <th>title</th>\n",
       "    </tr>\n",
       "  </thead>\n",
       "  <tbody>\n",
       "    <tr>\n",
       "      <th>0</th>\n",
       "      <td>Livemint</td>\n",
       "      <td>fed's charles plosser sees high bar for change...</td>\n",
       "    </tr>\n",
       "    <tr>\n",
       "      <th>1</th>\n",
       "      <td>IFA Magazine</td>\n",
       "      <td>us open: stocks fall after fed official hints ...</td>\n",
       "    </tr>\n",
       "    <tr>\n",
       "      <th>2</th>\n",
       "      <td>IFA Magazine</td>\n",
       "      <td>fed risks falling 'behind the curve', charles ...</td>\n",
       "    </tr>\n",
       "    <tr>\n",
       "      <th>3</th>\n",
       "      <td>Moneynews</td>\n",
       "      <td>fed's plosser: nasty weather has curbed job gr...</td>\n",
       "    </tr>\n",
       "    <tr>\n",
       "      <th>4</th>\n",
       "      <td>NASDAQ</td>\n",
       "      <td>plosser: fed may have to accelerate tapering pace</td>\n",
       "    </tr>\n",
       "  </tbody>\n",
       "</table>\n",
       "</div>"
      ],
      "text/plain": [
       "      publisher                                              title\n",
       "0      Livemint  fed's charles plosser sees high bar for change...\n",
       "1  IFA Magazine  us open: stocks fall after fed official hints ...\n",
       "2  IFA Magazine  fed risks falling 'behind the curve', charles ...\n",
       "3     Moneynews  fed's plosser: nasty weather has curbed job gr...\n",
       "4        NASDAQ  plosser: fed may have to accelerate tapering pace"
      ]
     },
     "execution_count": 2,
     "metadata": {},
     "output_type": "execute_result"
    }
   ],
   "source": [
    "import pandas as pd\n",
    "\n",
    "# Extract text column from a dataframe\n",
    "df = pd.read_csv(os.path.join(\"data\", \"news.csv\"))\n",
    "df.head()[['publisher', 'title']]\n",
    "\n",
    "# Convert text column to lowercase\n",
    "df['title'] = df['title'].str.lower()\n",
    "df.head()[['publisher', 'title']]"
   ]
  },
  {
   "cell_type": "code",
   "execution_count": 25,
   "metadata": {},
   "outputs": [
    {
     "data": {
      "text/html": [
       "<div>\n",
       "<style scoped>\n",
       "    .dataframe tbody tr th:only-of-type {\n",
       "        vertical-align: middle;\n",
       "    }\n",
       "\n",
       "    .dataframe tbody tr th {\n",
       "        vertical-align: top;\n",
       "    }\n",
       "\n",
       "    .dataframe thead th {\n",
       "        text-align: right;\n",
       "    }\n",
       "</style>\n",
       "<table border=\"1\" class=\"dataframe\">\n",
       "  <thead>\n",
       "    <tr style=\"text-align: right;\">\n",
       "      <th></th>\n",
       "      <th>id</th>\n",
       "      <th>title</th>\n",
       "      <th>url</th>\n",
       "      <th>publisher</th>\n",
       "      <th>category</th>\n",
       "      <th>story</th>\n",
       "      <th>hostname</th>\n",
       "      <th>timestamp</th>\n",
       "    </tr>\n",
       "  </thead>\n",
       "  <tbody>\n",
       "    <tr>\n",
       "      <th>0</th>\n",
       "      <td>2</td>\n",
       "      <td>fed's charles plosser sees high bar for change...</td>\n",
       "      <td>http://www.livemint.com/Politics/H2EvwJSK2VE6O...</td>\n",
       "      <td>Livemint</td>\n",
       "      <td>b</td>\n",
       "      <td>ddUyU0VZz0BRneMioxUPQVP6sIxvM</td>\n",
       "      <td>www.livemint.com</td>\n",
       "      <td>1394470371207</td>\n",
       "    </tr>\n",
       "    <tr>\n",
       "      <th>1</th>\n",
       "      <td>3</td>\n",
       "      <td>us open: stocks fall after fed official hints ...</td>\n",
       "      <td>http://www.ifamagazine.com/news/us-open-stocks...</td>\n",
       "      <td>IFA Magazine</td>\n",
       "      <td>b</td>\n",
       "      <td>ddUyU0VZz0BRneMioxUPQVP6sIxvM</td>\n",
       "      <td>www.ifamagazine.com</td>\n",
       "      <td>1394470371550</td>\n",
       "    </tr>\n",
       "    <tr>\n",
       "      <th>2</th>\n",
       "      <td>4</td>\n",
       "      <td>fed risks falling 'behind the curve', charles ...</td>\n",
       "      <td>http://www.ifamagazine.com/news/fed-risks-fall...</td>\n",
       "      <td>IFA Magazine</td>\n",
       "      <td>b</td>\n",
       "      <td>ddUyU0VZz0BRneMioxUPQVP6sIxvM</td>\n",
       "      <td>www.ifamagazine.com</td>\n",
       "      <td>1394470371793</td>\n",
       "    </tr>\n",
       "    <tr>\n",
       "      <th>3</th>\n",
       "      <td>5</td>\n",
       "      <td>fed's plosser: nasty weather has curbed job gr...</td>\n",
       "      <td>http://www.moneynews.com/Economy/federal-reser...</td>\n",
       "      <td>Moneynews</td>\n",
       "      <td>b</td>\n",
       "      <td>ddUyU0VZz0BRneMioxUPQVP6sIxvM</td>\n",
       "      <td>www.moneynews.com</td>\n",
       "      <td>1394470372027</td>\n",
       "    </tr>\n",
       "    <tr>\n",
       "      <th>4</th>\n",
       "      <td>6</td>\n",
       "      <td>plosser: fed may have to accelerate tapering pace</td>\n",
       "      <td>http://www.nasdaq.com/article/plosser-fed-may-...</td>\n",
       "      <td>NASDAQ</td>\n",
       "      <td>b</td>\n",
       "      <td>ddUyU0VZz0BRneMioxUPQVP6sIxvM</td>\n",
       "      <td>www.nasdaq.com</td>\n",
       "      <td>1394470372212</td>\n",
       "    </tr>\n",
       "  </tbody>\n",
       "</table>\n",
       "</div>"
      ],
      "text/plain": [
       "   id                                              title  \\\n",
       "0   2  fed's charles plosser sees high bar for change...   \n",
       "1   3  us open: stocks fall after fed official hints ...   \n",
       "2   4  fed risks falling 'behind the curve', charles ...   \n",
       "3   5  fed's plosser: nasty weather has curbed job gr...   \n",
       "4   6  plosser: fed may have to accelerate tapering pace   \n",
       "\n",
       "                                                 url     publisher category  \\\n",
       "0  http://www.livemint.com/Politics/H2EvwJSK2VE6O...      Livemint        b   \n",
       "1  http://www.ifamagazine.com/news/us-open-stocks...  IFA Magazine        b   \n",
       "2  http://www.ifamagazine.com/news/fed-risks-fall...  IFA Magazine        b   \n",
       "3  http://www.moneynews.com/Economy/federal-reser...     Moneynews        b   \n",
       "4  http://www.nasdaq.com/article/plosser-fed-may-...        NASDAQ        b   \n",
       "\n",
       "                           story             hostname      timestamp  \n",
       "0  ddUyU0VZz0BRneMioxUPQVP6sIxvM     www.livemint.com  1394470371207  \n",
       "1  ddUyU0VZz0BRneMioxUPQVP6sIxvM  www.ifamagazine.com  1394470371550  \n",
       "2  ddUyU0VZz0BRneMioxUPQVP6sIxvM  www.ifamagazine.com  1394470371793  \n",
       "3  ddUyU0VZz0BRneMioxUPQVP6sIxvM    www.moneynews.com  1394470372027  \n",
       "4  ddUyU0VZz0BRneMioxUPQVP6sIxvM       www.nasdaq.com  1394470372212  "
      ]
     },
     "execution_count": 25,
     "metadata": {},
     "output_type": "execute_result"
    }
   ],
   "source": [
    "df.head()"
   ]
  },
  {
   "cell_type": "markdown",
   "metadata": {},
   "source": [
    "### Online Resource"
   ]
  },
  {
   "cell_type": "code",
   "execution_count": 3,
   "metadata": {
    "scrolled": true
   },
   "outputs": [
    {
     "name": "stdout",
     "output_type": "stream",
     "text": [
      "{\n",
      "    \"success\": {\n",
      "        \"total\": 1\n",
      "    },\n",
      "    \"contents\": {\n",
      "        \"quotes\": [\n",
      "            {\n",
      "                \"quote\": \"Great things are done by a series of small things brought together.\",\n",
      "                \"length\": \"67\",\n",
      "                \"author\": \"Vincent Van Gogh\",\n",
      "                \"tags\": [\n",
      "                    \"art\",\n",
      "                    \"inspire\",\n",
      "                    \"small-things\"\n",
      "                ],\n",
      "                \"category\": \"inspire\",\n",
      "                \"language\": \"en\",\n",
      "                \"date\": \"2021-06-28\",\n",
      "                \"permalink\": \"https://theysaidso.com/quote/vincent-van-gogh-great-things-are-done-by-a-series-of-small-things-brought-toget\",\n",
      "                \"id\": \"DLThmumKP4CCe1833rRvNQeF\",\n",
      "                \"background\": \"https://theysaidso.com/img/qod/qod-inspire.jpg\",\n",
      "                \"title\": \"Inspiring Quote of the day\"\n",
      "            }\n",
      "        ]\n",
      "    },\n",
      "    \"baseurl\": \"https://theysaidso.com\",\n",
      "    \"copyright\": {\n",
      "        \"year\": 2023,\n",
      "        \"url\": \"https://theysaidso.com\"\n",
      "    }\n",
      "}\n",
      "Great things are done by a series of small things brought together. \n",
      "-- Vincent Van Gogh\n"
     ]
    }
   ],
   "source": [
    "import requests\n",
    "import json\n",
    "\n",
    "# Fetch data from a REST API\n",
    "r = requests.get(\n",
    "    \"https://quotes.rest/qod.json\")\n",
    "res = r.json()\n",
    "print(json.dumps(res, indent=4))\n",
    "\n",
    "# Extract relevant object and field\n",
    "q = res[\"contents\"][\"quotes\"][0]\n",
    "print(q[\"quote\"], \"\\n--\", q[\"author\"])"
   ]
  },
  {
   "cell_type": "markdown",
   "metadata": {},
   "source": [
    "## Cleaning"
   ]
  },
  {
   "cell_type": "code",
   "execution_count": 4,
   "metadata": {
    "scrolled": true
   },
   "outputs": [
    {
     "name": "stdout",
     "output_type": "stream",
     "text": [
      "<html lang=\"en\" op=\"news\"><head><meta name=\"referrer\" content=\"origin\"><meta name=\"viewport\" content=\"width=device-width, initial-scale=1.0\"><link rel=\"stylesheet\" type=\"text/css\" href=\"news.css?vbGHMem4meAJX9ahZqcC\">\n",
      "        <link rel=\"shortcut icon\" href=\"favicon.ico\">\n",
      "          <link rel=\"alternate\" type=\"application/rss+xml\" title=\"RSS\" href=\"rss\">\n",
      "        <title>Hacker News</title></head><body><center><table id=\"hnmain\" border=\"0\" cellpadding=\"0\" cellspacing=\"0\" width=\"85%\" bgcolor=\"#f6f6ef\">\n",
      "        <tr><td bgcolor=\"#ff6600\"><table border=\"0\" cellpadding=\"0\" cellspacing=\"0\" width=\"100%\" style=\"padding:2px\"><tr><td style=\"width:18px;padding-right:4px\"><a href=\"https://news.ycombinator.com\"><img src=\"y18.gif\" width=\"18\" height=\"18\" style=\"border:1px white solid;\"></a></td>\n",
      "                  <td style=\"line-height:12pt; height:10px;\"><span class=\"pagetop\"><b class=\"hnname\"><a href=\"news\">Hacker News</a></b>\n",
      "              <a href=\"newest\">new</a> | <a href=\"front\">past</a> | <a href=\"newcomments\">comments</a> | <a href=\"ask\">ask</a> | <a href=\"show\">show</a> | <a href=\"jobs\">jobs</a> | <a href=\"submit\">submit</a>            </span></td><td style=\"text-align:right;padding-right:4px;\"><span class=\"pagetop\">\n",
      "                              <a href=\"login?goto=news\">login</a>\n",
      "                          </span></td>\n",
      "              </tr></table></td></tr>\n",
      "<tr id=\"pagespace\" title=\"\" style=\"height:10px\"></tr><tr><td><table border=\"0\" cellpadding=\"0\" cellspacing=\"0\" class=\"itemlist\">\n",
      "              <tr class='athing' id='27664911'>\n",
      "      <td align=\"right\" valign=\"top\" class=\"title\"><span class=\"rank\">1.</span></td>      <td valign=\"top\" class=\"votelinks\"><center><a id='up_27664911' href='vote?id=27664911&amp;how=up&amp;goto=news'><div class='votearrow' title='upvote'></div></a></center></td><td class=\"title\"><a href=\"https://cryptoslate.com/safedollar-stablecoin-drops-to-0-following-248000-defi-exploit-on-polygon/\" class=\"storylink\">SafeDollar ‘stablecoin’ drops to $0 following $248,000 DeFi exploit on Polygon</a><span class=\"sitebit comhead\"> (<a href=\"from?site=cryptoslate.com\"><span class=\"sitestr\">cryptoslate.com</span></a>)</span></td></tr><tr><td colspan=\"2\"></td><td class=\"subtext\">\n",
      "        <span class=\"score\" id=\"score_27664911\">189 points</span> by <a href=\"user?id=awb\" class=\"hnuser\">awb</a> <span class=\"age\"><a href=\"item?id=27664911\">1 hour ago</a></span> <span id=\"unv_27664911\"></span> | <a href=\"hide?id=27664911&amp;goto=news\">hide</a> | <a href=\"item?id=27664911\">148&nbsp;comments</a>              </td></tr>\n",
      "      <tr class=\"spacer\" style=\"height:5px\"></tr>\n",
      "                <tr class='athing' id='27665584'>\n",
      "      <td align=\"right\" valign=\"top\" class=\"title\"><span class=\"rank\">2.</span></td>      <td valign=\"top\" class=\"votelinks\"><center><a id='up_27665584' href='vote?id=27665584&amp;how=up&amp;goto=news'><div class='votearrow' title='upvote'></div></a></center></td><td class=\"title\"><a href=\"https://blogs.sciencemag.org/pipeline/archives/2021/06/28/an-announcement-about-the-comment-section\" class=\"storylink\">An Announcement About the Comment Section</a><span class=\"sitebit comhead\"> (<a href=\"from?site=blogs.sciencemag.org\"><span class=\"sitestr\">blogs.sciencemag.org</span></a>)</span></td></tr><tr><td colspan=\"2\"></td><td class=\"subtext\">\n",
      "        <span class=\"score\" id=\"score_27665584\">21 points</span> by <a href=\"user?id=raphlinus\" class=\"hnuser\">raphlinus</a> <span class=\"age\"><a href=\"item?id=27665584\">26 minutes ago</a></span> <span id=\"unv_27665584\"></span> | <a href=\"hide?id=27665584&amp;goto=news\">hide</a> | <a href=\"item?id=27665584\">11&nbsp;comments</a>              </td></tr>\n",
      "      <tr class=\"spacer\" style=\"height:5px\"></tr>\n",
      "                <tr class='athing' id='27665360'>\n",
      "      <td align=\"right\" valign=\"top\" class=\"title\"><span class=\"rank\">3.</span></td>      <td valign=\"top\" class=\"votelinks\"><center><a id='up_27665360' href='vote?id=27665360&amp;how=up&amp;goto=news'><div class='votearrow' title='upvote'></div></a></center></td><td class=\"title\"><a href=\"https://burgesspowell.medium.com/the-reign-of-introverts-is-here-e713d5c774a6\" class=\"storylink\">The Reign of Introverts Is Here</a><span class=\"sitebit comhead\"> (<a href=\"from?site=burgesspowell.medium.com\"><span class=\"sitestr\">burgesspowell.medium.com</span></a>)</span></td></tr><tr><td colspan=\"2\"></td><td class=\"subtext\">\n",
      "        <span class=\"score\" id=\"score_27665360\">19 points</span> by <a href=\"user?id=bhalina\" class=\"hnuser\">bhalina</a> <span class=\"age\"><a href=\"item?id=27665360\">41 minutes ago</a></span> <span id=\"unv_27665360\"></span> | <a href=\"hide?id=27665360&amp;goto=news\">hide</a> | <a href=\"item?id=27665360\">19&nbsp;comments</a>              </td></tr>\n",
      "      <tr class=\"spacer\" style=\"height:5px\"></tr>\n",
      "                <tr class='athing' id='27661667'>\n",
      "      <td align=\"right\" valign=\"top\" class=\"title\"><span class=\"rank\">4.</span></td>      <td valign=\"top\" class=\"votelinks\"><center><a id='up_27661667' href='vote?id=27661667&amp;how=up&amp;goto=news'><div class='votearrow' title='upvote'></div></a></center></td><td class=\"title\"><a href=\"https://2ality.com/2021/06/temporal-api.html\" class=\"storylink\">Temporal: Getting started with JavaScript's new date time API</a><span class=\"sitebit comhead\"> (<a href=\"from?site=2ality.com\"><span class=\"sitestr\">2ality.com</span></a>)</span></td></tr><tr><td colspan=\"2\"></td><td class=\"subtext\">\n",
      "        <span class=\"score\" id=\"score_27661667\">189 points</span> by <a href=\"user?id=Amorymeltzer\" class=\"hnuser\">Amorymeltzer</a> <span class=\"age\"><a href=\"item?id=27661667\">5 hours ago</a></span> <span id=\"unv_27661667\"></span> | <a href=\"hide?id=27661667&amp;goto=news\">hide</a> | <a href=\"item?id=27661667\">88&nbsp;comments</a>              </td></tr>\n",
      "      <tr class=\"spacer\" style=\"height:5px\"></tr>\n",
      "                <tr class='athing' id='27662266'>\n",
      "      <td align=\"right\" valign=\"top\" class=\"title\"><span class=\"rank\">5.</span></td>      <td valign=\"top\" class=\"votelinks\"><center><a id='up_27662266' href='vote?id=27662266&amp;how=up&amp;goto=news'><div class='votearrow' title='upvote'></div></a></center></td><td class=\"title\"><a href=\"https://get21stnight.com/\" class=\"storylink\">Show HN: Anki alternative with integrated notes and import/export</a><span class=\"sitebit comhead\"> (<a href=\"from?site=get21stnight.com\"><span class=\"sitestr\">get21stnight.com</span></a>)</span></td></tr><tr><td colspan=\"2\"></td><td class=\"subtext\">\n",
      "        <span class=\"score\" id=\"score_27662266\">60 points</span> by <a href=\"user?id=klevertree\" class=\"hnuser\">klevertree</a> <span class=\"age\"><a href=\"item?id=27662266\">4 hours ago</a></span> <span id=\"unv_27662266\"></span> | <a href=\"hide?id=27662266&amp;goto=news\">hide</a> | <a href=\"item?id=27662266\">51&nbsp;comments</a>              </td></tr>\n",
      "      <tr class=\"spacer\" style=\"height:5px\"></tr>\n",
      "                <tr class='athing' id='27664020'>\n",
      "      <td align=\"right\" valign=\"top\" class=\"title\"><span class=\"rank\">6.</span></td>      <td valign=\"top\" class=\"votelinks\"><center><a id='up_27664020' href='vote?id=27664020&amp;how=up&amp;goto=news'><div class='votearrow' title='upvote'></div></a></center></td><td class=\"title\"><a href=\"https://sample.findka.com/?ref=showhn\" class=\"storylink\">Show HN: The Sample – newsletters curated for you with machine learning</a><span class=\"sitebit comhead\"> (<a href=\"from?site=findka.com\"><span class=\"sitestr\">findka.com</span></a>)</span></td></tr><tr><td colspan=\"2\"></td><td class=\"subtext\">\n",
      "        <span class=\"score\" id=\"score_27664020\">12 points</span> by <a href=\"user?id=jacobobryant\" class=\"hnuser\">jacobobryant</a> <span class=\"age\"><a href=\"item?id=27664020\">1 hour ago</a></span> <span id=\"unv_27664020\"></span> | <a href=\"hide?id=27664020&amp;goto=news\">hide</a> | <a href=\"item?id=27664020\">2&nbsp;comments</a>              </td></tr>\n",
      "      <tr class=\"spacer\" style=\"height:5px\"></tr>\n",
      "                <tr class='athing' id='27640907'>\n",
      "      <td align=\"right\" valign=\"top\" class=\"title\"><span class=\"rank\">7.</span></td>      <td valign=\"top\" class=\"votelinks\"><center><a id='up_27640907' href='vote?id=27640907&amp;how=up&amp;goto=news'><div class='votearrow' title='upvote'></div></a></center></td><td class=\"title\"><a href=\"https://www.datacenterdynamics.com/en/analysis/caves-of-steel/\" class=\"storylink\">The slow rise of robots in the data center</a><span class=\"sitebit comhead\"> (<a href=\"from?site=datacenterdynamics.com\"><span class=\"sitestr\">datacenterdynamics.com</span></a>)</span></td></tr><tr><td colspan=\"2\"></td><td class=\"subtext\">\n",
      "        <span class=\"score\" id=\"score_27640907\">17 points</span> by <a href=\"user?id=vanburen\" class=\"hnuser\">vanburen</a> <span class=\"age\"><a href=\"item?id=27640907\">2 hours ago</a></span> <span id=\"unv_27640907\"></span> | <a href=\"hide?id=27640907&amp;goto=news\">hide</a> | <a href=\"item?id=27640907\">4&nbsp;comments</a>              </td></tr>\n",
      "      <tr class=\"spacer\" style=\"height:5px\"></tr>\n",
      "                <tr class='athing' id='27661637'>\n",
      "      <td align=\"right\" valign=\"top\" class=\"title\"><span class=\"rank\">8.</span></td>      <td valign=\"top\" class=\"votelinks\"><center><a id='up_27661637' href='vote?id=27661637&amp;how=up&amp;goto=news'><div class='votearrow' title='upvote'></div></a></center></td><td class=\"title\"><a href=\"https://www.freethink.com/shows/just-might-work/how-to-make-insulin\" class=\"storylink\">Biohackers Take Aim at Big Pharma’s Stranglehold on Insulin</a><span class=\"sitebit comhead\"> (<a href=\"from?site=freethink.com\"><span class=\"sitestr\">freethink.com</span></a>)</span></td></tr><tr><td colspan=\"2\"></td><td class=\"subtext\">\n",
      "        <span class=\"score\" id=\"score_27661637\">131 points</span> by <a href=\"user?id=HiroProtagonist\" class=\"hnuser\">HiroProtagonist</a> <span class=\"age\"><a href=\"item?id=27661637\">5 hours ago</a></span> <span id=\"unv_27661637\"></span> | <a href=\"hide?id=27661637&amp;goto=news\">hide</a> | <a href=\"item?id=27661637\">125&nbsp;comments</a>              </td></tr>\n",
      "      <tr class=\"spacer\" style=\"height:5px\"></tr>\n",
      "                <tr class='athing' id='27661559'>\n",
      "      <td align=\"right\" valign=\"top\" class=\"title\"><span class=\"rank\">9.</span></td>      <td valign=\"top\" class=\"votelinks\"><center><a id='up_27661559' href='vote?id=27661559&amp;how=up&amp;goto=news'><div class='votearrow' title='upvote'></div></a></center></td><td class=\"title\"><a href=\"https://blog.frantovo.cz/s/1576/Niklaus%20Wirth%20-%20A%20Plea%20for%20Lean%20Software%20-%20OCR.pdf\" class=\"storylink\">A Plea for Lean Software (1995) [pdf]</a><span class=\"sitebit comhead\"> (<a href=\"from?site=frantovo.cz\"><span class=\"sitestr\">frantovo.cz</span></a>)</span></td></tr><tr><td colspan=\"2\"></td><td class=\"subtext\">\n",
      "        <span class=\"score\" id=\"score_27661559\">105 points</span> by <a href=\"user?id=dvfjsdhgfv\" class=\"hnuser\">dvfjsdhgfv</a> <span class=\"age\"><a href=\"item?id=27661559\">5 hours ago</a></span> <span id=\"unv_27661559\"></span> | <a href=\"hide?id=27661559&amp;goto=news\">hide</a> | <a href=\"item?id=27661559\">108&nbsp;comments</a>              </td></tr>\n",
      "      <tr class=\"spacer\" style=\"height:5px\"></tr>\n",
      "                <tr class='athing' id='27664397'>\n",
      "      <td align=\"right\" valign=\"top\" class=\"title\"><span class=\"rank\">10.</span></td>      <td></td><td class=\"title\"><a href=\"https://www.ycombinator.com/companies/amberbox-gunshot-detection/jobs/bDS8KHf-fully-remote-sales-business-development-representative\" class=\"storylink\" rel=\"nofollow\">AmberBox Gunshot Detection (YC W16) Is Hiring</a><span class=\"sitebit comhead\"> (<a href=\"from?site=ycombinator.com\"><span class=\"sitestr\">ycombinator.com</span></a>)</span></td></tr><tr><td colspan=\"2\"></td><td class=\"subtext\">\n",
      "        <span class=\"age\"><a href=\"item?id=27664397\">1 hour ago</a></span> | <a href=\"hide?id=27664397&amp;goto=news\">hide</a>      </td></tr>\n",
      "      <tr class=\"spacer\" style=\"height:5px\"></tr>\n",
      "                <tr class='athing' id='27664856'>\n",
      "      <td align=\"right\" valign=\"top\" class=\"title\"><span class=\"rank\">11.</span></td>      <td valign=\"top\" class=\"votelinks\"><center><a id='up_27664856' href='vote?id=27664856&amp;how=up&amp;goto=news'><div class='votearrow' title='upvote'></div></a></center></td><td class=\"title\"><a href=\"https://www.phoronix.com/scan.php?page=news_item&amp;px=Intel-TSX-Off-New-Microcode\" class=\"storylink\">Intel to Disable TSX by Default on More CPUs with New Microcode</a><span class=\"sitebit comhead\"> (<a href=\"from?site=phoronix.com\"><span class=\"sitestr\">phoronix.com</span></a>)</span></td></tr><tr><td colspan=\"2\"></td><td class=\"subtext\">\n",
      "        <span class=\"score\" id=\"score_27664856\">29 points</span> by <a href=\"user?id=pella\" class=\"hnuser\">pella</a> <span class=\"age\"><a href=\"item?id=27664856\">1 hour ago</a></span> <span id=\"unv_27664856\"></span> | <a href=\"hide?id=27664856&amp;goto=news\">hide</a> | <a href=\"item?id=27664856\">15&nbsp;comments</a>              </td></tr>\n",
      "      <tr class=\"spacer\" style=\"height:5px\"></tr>\n",
      "                <tr class='athing' id='27658145'>\n",
      "      <td align=\"right\" valign=\"top\" class=\"title\"><span class=\"rank\">12.</span></td>      <td valign=\"top\" class=\"votelinks\"><center><a id='up_27658145' href='vote?id=27658145&amp;how=up&amp;goto=news'><div class='votearrow' title='upvote'></div></a></center></td><td class=\"title\"><a href=\"https://www.bbc.com/news/business-57632831\" class=\"storylink\">FCA bans largest crypto-currency exchange Binance</a><span class=\"sitebit comhead\"> (<a href=\"from?site=bbc.com\"><span class=\"sitestr\">bbc.com</span></a>)</span></td></tr><tr><td colspan=\"2\"></td><td class=\"subtext\">\n",
      "        <span class=\"score\" id=\"score_27658145\">394 points</span> by <a href=\"user?id=lakis\" class=\"hnuser\">lakis</a> <span class=\"age\"><a href=\"item?id=27658145\">14 hours ago</a></span> <span id=\"unv_27658145\"></span> | <a href=\"hide?id=27658145&amp;goto=news\">hide</a> | <a href=\"item?id=27658145\">154&nbsp;comments</a>              </td></tr>\n",
      "      <tr class=\"spacer\" style=\"height:5px\"></tr>\n",
      "                <tr class='athing' id='27658706'>\n",
      "      <td align=\"right\" valign=\"top\" class=\"title\"><span class=\"rank\">13.</span></td>      <td valign=\"top\" class=\"votelinks\"><center><a id='up_27658706' href='vote?id=27658706&amp;how=up&amp;goto=news'><div class='votearrow' title='upvote'></div></a></center></td><td class=\"title\"><a href=\"https://gamesfromwithin.com/data-oriented-design\" class=\"storylink\">Data-oriented design or why you might shoot yourself in the foot with OOP (2009)</a><span class=\"sitebit comhead\"> (<a href=\"from?site=gamesfromwithin.com\"><span class=\"sitestr\">gamesfromwithin.com</span></a>)</span></td></tr><tr><td colspan=\"2\"></td><td class=\"subtext\">\n",
      "        <span class=\"score\" id=\"score_27658706\">194 points</span> by <a href=\"user?id=tempodox\" class=\"hnuser\">tempodox</a> <span class=\"age\"><a href=\"item?id=27658706\">12 hours ago</a></span> <span id=\"unv_27658706\"></span> | <a href=\"hide?id=27658706&amp;goto=news\">hide</a> | <a href=\"item?id=27658706\">231&nbsp;comments</a>              </td></tr>\n",
      "      <tr class=\"spacer\" style=\"height:5px\"></tr>\n",
      "                <tr class='athing' id='27659690'>\n",
      "      <td align=\"right\" valign=\"top\" class=\"title\"><span class=\"rank\">14.</span></td>      <td valign=\"top\" class=\"votelinks\"><center><a id='up_27659690' href='vote?id=27659690&amp;how=up&amp;goto=news'><div class='votearrow' title='upvote'></div></a></center></td><td class=\"title\"><a href=\"https://blog.dbmiller.org/2021-06-28-dear-google-public-domain-compositions-exist\" class=\"storylink\">Dear Google: Public domain compositions exist</a><span class=\"sitebit comhead\"> (<a href=\"from?site=dbmiller.org\"><span class=\"sitestr\">dbmiller.org</span></a>)</span></td></tr><tr><td colspan=\"2\"></td><td class=\"subtext\">\n",
      "        <span class=\"score\" id=\"score_27659690\">543 points</span> by <a href=\"user?id=mod50ack\" class=\"hnuser\">mod50ack</a> <span class=\"age\"><a href=\"item?id=27659690\">9 hours ago</a></span> <span id=\"unv_27659690\"></span> | <a href=\"hide?id=27659690&amp;goto=news\">hide</a> | <a href=\"item?id=27659690\">149&nbsp;comments</a>              </td></tr>\n",
      "      <tr class=\"spacer\" style=\"height:5px\"></tr>\n",
      "                <tr class='athing' id='27648871'>\n",
      "      <td align=\"right\" valign=\"top\" class=\"title\"><span class=\"rank\">15.</span></td>      <td valign=\"top\" class=\"votelinks\"><center><a id='up_27648871' href='vote?id=27648871&amp;how=up&amp;goto=news'><div class='votearrow' title='upvote'></div></a></center></td><td class=\"title\"><a href=\"https://www.ics.uci.edu/~lopes/teaching/inf212W12/readings/lambda-calculus-handout.pdf\" class=\"storylink\">Lambda Calculus Examples (2009) [pdf]</a><span class=\"sitebit comhead\"> (<a href=\"from?site=uci.edu\"><span class=\"sitestr\">uci.edu</span></a>)</span></td></tr><tr><td colspan=\"2\"></td><td class=\"subtext\">\n",
      "        <span class=\"score\" id=\"score_27648871\">103 points</span> by <a href=\"user?id=alphanumeric0\" class=\"hnuser\">alphanumeric0</a> <span class=\"age\"><a href=\"item?id=27648871\">9 hours ago</a></span> <span id=\"unv_27648871\"></span> | <a href=\"hide?id=27648871&amp;goto=news\">hide</a> | <a href=\"item?id=27648871\">16&nbsp;comments</a>              </td></tr>\n",
      "      <tr class=\"spacer\" style=\"height:5px\"></tr>\n",
      "                <tr class='athing' id='27663200'>\n",
      "      <td align=\"right\" valign=\"top\" class=\"title\"><span class=\"rank\">16.</span></td>      <td valign=\"top\" class=\"votelinks\"><center><a id='up_27663200' href='vote?id=27663200&amp;how=up&amp;goto=news'><div class='votearrow' title='upvote'></div></a></center></td><td class=\"title\"><a href=\"https://www.thischemicaldoesnotexist.com/\" class=\"storylink\">This Chemical Does Not Exist</a><span class=\"sitebit comhead\"> (<a href=\"from?site=thischemicaldoesnotexist.com\"><span class=\"sitestr\">thischemicaldoesnotexist.com</span></a>)</span></td></tr><tr><td colspan=\"2\"></td><td class=\"subtext\">\n",
      "        <span class=\"score\" id=\"score_27663200\">32 points</span> by <a href=\"user?id=optimalsolver\" class=\"hnuser\">optimalsolver</a> <span class=\"age\"><a href=\"item?id=27663200\">3 hours ago</a></span> <span id=\"unv_27663200\"></span> | <a href=\"hide?id=27663200&amp;goto=news\">hide</a> | <a href=\"item?id=27663200\">29&nbsp;comments</a>              </td></tr>\n",
      "      <tr class=\"spacer\" style=\"height:5px\"></tr>\n",
      "                <tr class='athing' id='27656696'>\n",
      "      <td align=\"right\" valign=\"top\" class=\"title\"><span class=\"rank\">17.</span></td>      <td valign=\"top\" class=\"votelinks\"><center><a id='up_27656696' href='vote?id=27656696&amp;how=up&amp;goto=news'><div class='votearrow' title='upvote'></div></a></center></td><td class=\"title\"><a href=\"https://thereader.mitpress.mit.edu/recounting-cognitive-history-of-numerals/\" class=\"storylink\">Re-counting the cognitive history of numerals</a><span class=\"sitebit comhead\"> (<a href=\"from?site=mitpress.mit.edu\"><span class=\"sitestr\">mitpress.mit.edu</span></a>)</span></td></tr><tr><td colspan=\"2\"></td><td class=\"subtext\">\n",
      "        <span class=\"score\" id=\"score_27656696\">15 points</span> by <a href=\"user?id=anarbadalov\" class=\"hnuser\">anarbadalov</a> <span class=\"age\"><a href=\"item?id=27656696\">4 hours ago</a></span> <span id=\"unv_27656696\"></span> | <a href=\"hide?id=27656696&amp;goto=news\">hide</a> | <a href=\"item?id=27656696\">discuss</a>              </td></tr>\n",
      "      <tr class=\"spacer\" style=\"height:5px\"></tr>\n",
      "                <tr class='athing' id='27648719'>\n",
      "      <td align=\"right\" valign=\"top\" class=\"title\"><span class=\"rank\">18.</span></td>      <td valign=\"top\" class=\"votelinks\"><center><a id='up_27648719' href='vote?id=27648719&amp;how=up&amp;goto=news'><div class='votearrow' title='upvote'></div></a></center></td><td class=\"title\"><a href=\"https://multilogin.com/why-mimicking-a-device-is-almost-impossible/\" class=\"storylink\">Why mimicking a device is becoming almost impossible</a><span class=\"sitebit comhead\"> (<a href=\"from?site=multilogin.com\"><span class=\"sitestr\">multilogin.com</span></a>)</span></td></tr><tr><td colspan=\"2\"></td><td class=\"subtext\">\n",
      "        <span class=\"score\" id=\"score_27648719\">253 points</span> by <a href=\"user?id=zdw\" class=\"hnuser\">zdw</a> <span class=\"age\"><a href=\"item?id=27648719\">13 hours ago</a></span> <span id=\"unv_27648719\"></span> | <a href=\"hide?id=27648719&amp;goto=news\">hide</a> | <a href=\"item?id=27648719\">159&nbsp;comments</a>              </td></tr>\n",
      "      <tr class=\"spacer\" style=\"height:5px\"></tr>\n",
      "                <tr class='athing' id='27662701'>\n",
      "      <td align=\"right\" valign=\"top\" class=\"title\"><span class=\"rank\">19.</span></td>      <td valign=\"top\" class=\"votelinks\"><center><a id='up_27662701' href='vote?id=27662701&amp;how=up&amp;goto=news'><div class='votearrow' title='upvote'></div></a></center></td><td class=\"title\"><a href=\"https://www.theregister.com/2021/06/28/google_amp_core_web_vitals/\" class=\"storylink\">Google no longer requires AMP, but the replacement might be worse</a><span class=\"sitebit comhead\"> (<a href=\"from?site=theregister.com\"><span class=\"sitestr\">theregister.com</span></a>)</span></td></tr><tr><td colspan=\"2\"></td><td class=\"subtext\">\n",
      "        <span class=\"score\" id=\"score_27662701\">129 points</span> by <a href=\"user?id=pseudolus\" class=\"hnuser\">pseudolus</a> <span class=\"age\"><a href=\"item?id=27662701\">4 hours ago</a></span> <span id=\"unv_27662701\"></span> | <a href=\"hide?id=27662701&amp;goto=news\">hide</a> | <a href=\"item?id=27662701\">123&nbsp;comments</a>              </td></tr>\n",
      "      <tr class=\"spacer\" style=\"height:5px\"></tr>\n",
      "                <tr class='athing' id='27639185'>\n",
      "      <td align=\"right\" valign=\"top\" class=\"title\"><span class=\"rank\">20.</span></td>      <td valign=\"top\" class=\"votelinks\"><center><a id='up_27639185' href='vote?id=27639185&amp;how=up&amp;goto=news'><div class='votearrow' title='upvote'></div></a></center></td><td class=\"title\"><a href=\"https://www.epicurious.com/ingredients/golden-age-of-masa-article\" class=\"storylink\">Welcome to the Golden Age of Masa</a><span class=\"sitebit comhead\"> (<a href=\"from?site=epicurious.com\"><span class=\"sitestr\">epicurious.com</span></a>)</span></td></tr><tr><td colspan=\"2\"></td><td class=\"subtext\">\n",
      "        <span class=\"score\" id=\"score_27639185\">38 points</span> by <a href=\"user?id=sytelus\" class=\"hnuser\">sytelus</a> <span class=\"age\"><a href=\"item?id=27639185\">4 hours ago</a></span> <span id=\"unv_27639185\"></span> | <a href=\"hide?id=27639185&amp;goto=news\">hide</a> | <a href=\"item?id=27639185\">39&nbsp;comments</a>              </td></tr>\n",
      "      <tr class=\"spacer\" style=\"height:5px\"></tr>\n",
      "                <tr class='athing' id='27648763'>\n",
      "      <td align=\"right\" valign=\"top\" class=\"title\"><span class=\"rank\">21.</span></td>      <td valign=\"top\" class=\"votelinks\"><center><a id='up_27648763' href='vote?id=27648763&amp;how=up&amp;goto=news'><div class='votearrow' title='upvote'></div></a></center></td><td class=\"title\"><a href=\"https://spacedotbiz.substack.com/p/the-launch-landscape-small-rockets\" class=\"storylink\">The Launch Landscape: Small Rockets</a><span class=\"sitebit comhead\"> (<a href=\"from?site=spacedotbiz.substack.com\"><span class=\"sitestr\">spacedotbiz.substack.com</span></a>)</span></td></tr><tr><td colspan=\"2\"></td><td class=\"subtext\">\n",
      "        <span class=\"score\" id=\"score_27648763\">37 points</span> by <a href=\"user?id=slyall\" class=\"hnuser\">slyall</a> <span class=\"age\"><a href=\"item?id=27648763\">5 hours ago</a></span> <span id=\"unv_27648763\"></span> | <a href=\"hide?id=27648763&amp;goto=news\">hide</a> | <a href=\"item?id=27648763\">31&nbsp;comments</a>              </td></tr>\n",
      "      <tr class=\"spacer\" style=\"height:5px\"></tr>\n",
      "                <tr class='athing' id='27658689'>\n",
      "      <td align=\"right\" valign=\"top\" class=\"title\"><span class=\"rank\">22.</span></td>      <td valign=\"top\" class=\"votelinks\"><center><a id='up_27658689' href='vote?id=27658689&amp;how=up&amp;goto=news'><div class='votearrow' title='upvote'></div></a></center></td><td class=\"title\"><a href=\"https://bitgloss.ro/dr-software.pdf\" class=\"storylink\">Dr. Software – Refactoring from OOP to FP [pdf]</a><span class=\"sitebit comhead\"> (<a href=\"from?site=bitgloss.ro\"><span class=\"sitestr\">bitgloss.ro</span></a>)</span></td></tr><tr><td colspan=\"2\"></td><td class=\"subtext\">\n",
      "        <span class=\"score\" id=\"score_27658689\">134 points</span> by <a href=\"user?id=dragosslujeru\" class=\"hnuser\">dragosslujeru</a> <span class=\"age\"><a href=\"item?id=27658689\">12 hours ago</a></span> <span id=\"unv_27658689\"></span> | <a href=\"hide?id=27658689&amp;goto=news\">hide</a> | <a href=\"item?id=27658689\">26&nbsp;comments</a>              </td></tr>\n",
      "      <tr class=\"spacer\" style=\"height:5px\"></tr>\n",
      "                <tr class='athing' id='27662498'>\n",
      "      <td align=\"right\" valign=\"top\" class=\"title\"><span class=\"rank\">23.</span></td>      <td valign=\"top\" class=\"votelinks\"><center><a id='up_27662498' href='vote?id=27662498&amp;how=up&amp;goto=news'><div class='votearrow' title='upvote'></div></a></center></td><td class=\"title\"><a href=\"https://stratechery.com/2021/the-lightness-of-windows/\" class=\"storylink\">The Lightness of Windows</a><span class=\"sitebit comhead\"> (<a href=\"from?site=stratechery.com\"><span class=\"sitestr\">stratechery.com</span></a>)</span></td></tr><tr><td colspan=\"2\"></td><td class=\"subtext\">\n",
      "        <span class=\"score\" id=\"score_27662498\">114 points</span> by <a href=\"user?id=ingve\" class=\"hnuser\">ingve</a> <span class=\"age\"><a href=\"item?id=27662498\">4 hours ago</a></span> <span id=\"unv_27662498\"></span> | <a href=\"hide?id=27662498&amp;goto=news\">hide</a> | <a href=\"item?id=27662498\">198&nbsp;comments</a>              </td></tr>\n",
      "      <tr class=\"spacer\" style=\"height:5px\"></tr>\n",
      "                <tr class='athing' id='27649125'>\n",
      "      <td align=\"right\" valign=\"top\" class=\"title\"><span class=\"rank\">24.</span></td>      <td valign=\"top\" class=\"votelinks\"><center><a id='up_27649125' href='vote?id=27649125&amp;how=up&amp;goto=news'><div class='votearrow' title='upvote'></div></a></center></td><td class=\"title\"><a href=\"https://arstechnica.com/gaming/2021/06/circling-or-cycling-the-track-at-f1s-famous-circuit-of-the-americas/\" class=\"storylink\">Circling–or cycling–the track at F1’s famous Circuit of the Americas</a><span class=\"sitebit comhead\"> (<a href=\"from?site=arstechnica.com\"><span class=\"sitestr\">arstechnica.com</span></a>)</span></td></tr><tr><td colspan=\"2\"></td><td class=\"subtext\">\n",
      "        <span class=\"score\" id=\"score_27649125\">67 points</span> by <a href=\"user?id=Tomte\" class=\"hnuser\">Tomte</a> <span class=\"age\"><a href=\"item?id=27649125\">8 hours ago</a></span> <span id=\"unv_27649125\"></span> | <a href=\"hide?id=27649125&amp;goto=news\">hide</a> | <a href=\"item?id=27649125\">33&nbsp;comments</a>              </td></tr>\n",
      "      <tr class=\"spacer\" style=\"height:5px\"></tr>\n",
      "                <tr class='athing' id='27649880'>\n",
      "      <td align=\"right\" valign=\"top\" class=\"title\"><span class=\"rank\">25.</span></td>      <td valign=\"top\" class=\"votelinks\"><center><a id='up_27649880' href='vote?id=27649880&amp;how=up&amp;goto=news'><div class='votearrow' title='upvote'></div></a></center></td><td class=\"title\"><a href=\"https://jesseduffield.com/Compound-Components/\" class=\"storylink\">Ranking the Four Approaches to Compound Components, from Worst to Best</a><span class=\"sitebit comhead\"> (<a href=\"from?site=jesseduffield.com\"><span class=\"sitestr\">jesseduffield.com</span></a>)</span></td></tr><tr><td colspan=\"2\"></td><td class=\"subtext\">\n",
      "        <span class=\"score\" id=\"score_27649880\">33 points</span> by <a href=\"user?id=genericlemon24\" class=\"hnuser\">genericlemon24</a> <span class=\"age\"><a href=\"item?id=27649880\">7 hours ago</a></span> <span id=\"unv_27649880\"></span> | <a href=\"hide?id=27649880&amp;goto=news\">hide</a> | <a href=\"item?id=27649880\">19&nbsp;comments</a>              </td></tr>\n",
      "      <tr class=\"spacer\" style=\"height:5px\"></tr>\n",
      "                <tr class='athing' id='27658471'>\n",
      "      <td align=\"right\" valign=\"top\" class=\"title\"><span class=\"rank\">26.</span></td>      <td valign=\"top\" class=\"votelinks\"><center><a id='up_27658471' href='vote?id=27658471&amp;how=up&amp;goto=news'><div class='votearrow' title='upvote'></div></a></center></td><td class=\"title\"><a href=\"https://twitter.com/TrungTPhan/status/1409185044501987340\" class=\"storylink\">Sriracha sauce hits $150M+/Y with no sales team, no trademark and $0 in ad spend</a><span class=\"sitebit comhead\"> (<a href=\"from?site=twitter.com/trungtphan\"><span class=\"sitestr\">twitter.com/trungtphan</span></a>)</span></td></tr><tr><td colspan=\"2\"></td><td class=\"subtext\">\n",
      "        <span class=\"score\" id=\"score_27658471\">658 points</span> by <a href=\"user?id=dsr12\" class=\"hnuser\">dsr12</a> <span class=\"age\"><a href=\"item?id=27658471\">13 hours ago</a></span> <span id=\"unv_27658471\"></span> | <a href=\"hide?id=27658471&amp;goto=news\">hide</a> | <a href=\"item?id=27658471\">384&nbsp;comments</a>              </td></tr>\n",
      "      <tr class=\"spacer\" style=\"height:5px\"></tr>\n",
      "                <tr class='athing' id='27660253'>\n",
      "      <td align=\"right\" valign=\"top\" class=\"title\"><span class=\"rank\">27.</span></td>      <td valign=\"top\" class=\"votelinks\"><center><a id='up_27660253' href='vote?id=27660253&amp;how=up&amp;goto=news'><div class='votearrow' title='upvote'></div></a></center></td><td class=\"title\"><a href=\"https://ipds.io/\" class=\"storylink\">Subdomains for IPFS</a><span class=\"sitebit comhead\"> (<a href=\"from?site=ipds.io\"><span class=\"sitestr\">ipds.io</span></a>)</span></td></tr><tr><td colspan=\"2\"></td><td class=\"subtext\">\n",
      "        <span class=\"score\" id=\"score_27660253\">83 points</span> by <a href=\"user?id=dumitruflorin\" class=\"hnuser\">dumitruflorin</a> <span class=\"age\"><a href=\"item?id=27660253\">7 hours ago</a></span> <span id=\"unv_27660253\"></span> | <a href=\"hide?id=27660253&amp;goto=news\">hide</a> | <a href=\"item?id=27660253\">33&nbsp;comments</a>              </td></tr>\n",
      "      <tr class=\"spacer\" style=\"height:5px\"></tr>\n",
      "                <tr class='athing' id='27639682'>\n",
      "      <td align=\"right\" valign=\"top\" class=\"title\"><span class=\"rank\">28.</span></td>      <td valign=\"top\" class=\"votelinks\"><center><a id='up_27639682' href='vote?id=27639682&amp;how=up&amp;goto=news'><div class='votearrow' title='upvote'></div></a></center></td><td class=\"title\"><a href=\"https://mitpress.mit.edu/books/teaching-machines\" class=\"storylink\">Teaching Machines: the history of personalized learning</a><span class=\"sitebit comhead\"> (<a href=\"from?site=mitpress.mit.edu\"><span class=\"sitestr\">mitpress.mit.edu</span></a>)</span></td></tr><tr><td colspan=\"2\"></td><td class=\"subtext\">\n",
      "        <span class=\"score\" id=\"score_27639682\">41 points</span> by <a href=\"user?id=adrian_mrd\" class=\"hnuser\">adrian_mrd</a> <span class=\"age\"><a href=\"item?id=27639682\">10 hours ago</a></span> <span id=\"unv_27639682\"></span> | <a href=\"hide?id=27639682&amp;goto=news\">hide</a> | <a href=\"item?id=27639682\">7&nbsp;comments</a>              </td></tr>\n",
      "      <tr class=\"spacer\" style=\"height:5px\"></tr>\n",
      "                <tr class='athing' id='27660107'>\n",
      "      <td align=\"right\" valign=\"top\" class=\"title\"><span class=\"rank\">29.</span></td>      <td valign=\"top\" class=\"votelinks\"><center><a id='up_27660107' href='vote?id=27660107&amp;how=up&amp;goto=news'><div class='votearrow' title='upvote'></div></a></center></td><td class=\"title\"><a href=\"https://www.bbc.com/news/science-environment-57628653\" class=\"storylink\">China releases videos of its Zhurong Mars rover</a><span class=\"sitebit comhead\"> (<a href=\"from?site=bbc.com\"><span class=\"sitestr\">bbc.com</span></a>)</span></td></tr><tr><td colspan=\"2\"></td><td class=\"subtext\">\n",
      "        <span class=\"score\" id=\"score_27660107\">154 points</span> by <a href=\"user?id=pseudolus\" class=\"hnuser\">pseudolus</a> <span class=\"age\"><a href=\"item?id=27660107\">8 hours ago</a></span> <span id=\"unv_27660107\"></span> | <a href=\"hide?id=27660107&amp;goto=news\">hide</a> | <a href=\"item?id=27660107\">81&nbsp;comments</a>              </td></tr>\n",
      "      <tr class=\"spacer\" style=\"height:5px\"></tr>\n",
      "                <tr class='athing' id='27659988'>\n",
      "      <td align=\"right\" valign=\"top\" class=\"title\"><span class=\"rank\">30.</span></td>      <td valign=\"top\" class=\"votelinks\"><center><a id='up_27659988' href='vote?id=27659988&amp;how=up&amp;goto=news'><div class='votearrow' title='upvote'></div></a></center></td><td class=\"title\"><a href=\"https://www.extremetech.com/computing/324134-i-will-never-use-a-microsoft-account-to-log-into-my-own-pc\" class=\"storylink\">I Will Never Use a Microsoft Account to Log Into My Own PC</a><span class=\"sitebit comhead\"> (<a href=\"from?site=extremetech.com\"><span class=\"sitestr\">extremetech.com</span></a>)</span></td></tr><tr><td colspan=\"2\"></td><td class=\"subtext\">\n",
      "        <span class=\"score\" id=\"score_27659988\">765 points</span> by <a href=\"user?id=terseus\" class=\"hnuser\">terseus</a> <span class=\"age\"><a href=\"item?id=27659988\">8 hours ago</a></span> <span id=\"unv_27659988\"></span> | <a href=\"hide?id=27659988&amp;goto=news\">hide</a> | <a href=\"item?id=27659988\">551&nbsp;comments</a>              </td></tr>\n",
      "      <tr class=\"spacer\" style=\"height:5px\"></tr>\n",
      "            <tr class=\"morespace\" style=\"height:10px\"></tr><tr><td colspan=\"2\"></td><td class=\"title\"><a href=\"news?p=2\" class=\"morelink\" rel=\"next\">More</a></td></tr>\n",
      "  </table>\n",
      "</td></tr>\n",
      "<tr><td><img src=\"s.gif\" height=\"10\" width=\"0\"><table width=\"100%\" cellspacing=\"0\" cellpadding=\"1\"><tr><td bgcolor=\"#ff6600\"></td></tr></table><br><center><span class=\"yclinks\"><a href=\"newsguidelines.html\">Guidelines</a>\n",
      "        | <a href=\"newsfaq.html\">FAQ</a>\n",
      "        | <a href=\"lists\">Lists</a>\n",
      "        | <a href=\"https://github.com/HackerNews/API\">API</a>\n",
      "        | <a href=\"security.html\">Security</a>\n",
      "        | <a href=\"http://www.ycombinator.com/legal/\">Legal</a>\n",
      "        | <a href=\"http://www.ycombinator.com/apply/\">Apply to YC</a>\n",
      "        | <a href=\"mailto:hn@ycombinator.com\">Contact</a></span><br><br><form method=\"get\" action=\"//hn.algolia.com/\">Search:\n",
      "          <input type=\"text\" name=\"q\" value=\"\" size=\"17\" autocorrect=\"off\" spellcheck=\"false\" autocapitalize=\"off\" autocomplete=\"false\"></form>\n",
      "            </center></td></tr>\n",
      "      </table></center></body><script type='text/javascript' src='hn.js?vbGHMem4meAJX9ahZqcC'></script></html>\n",
      "\n"
     ]
    }
   ],
   "source": [
    "import requests\n",
    "\n",
    "# Fetch a web page\n",
    "r = requests.get(\"https://news.ycombinator.com\")\n",
    "print(r.text)"
   ]
  },
  {
   "cell_type": "code",
   "execution_count": 5,
   "metadata": {},
   "outputs": [
    {
     "name": "stdout",
     "output_type": "stream",
     "text": [
      "\n",
      "        \n",
      "          \n",
      "        Hacker News\n",
      "        \n",
      "                  Hacker News\n",
      "              new | past | comments | ask | show | jobs | submit            \n",
      "                              login\n",
      "                          \n",
      "              \n",
      "\n",
      "              \n",
      "      1.      SafeDollar ‘stablecoin’ drops to $0 following $248,000 DeFi exploit on Polygon (cryptoslate.com)\n",
      "        189 points by awb 1 hour ago  | hide | 148&nbsp;comments              \n",
      "      \n",
      "                \n",
      "      2.      An Announcement About the Comment Section (blogs.sciencemag.org)\n",
      "        21 points by raphlinus 26 minutes ago  | hide | 11&nbsp;comments              \n",
      "      \n",
      "                \n",
      "      3.      The Reign of Introverts Is Here (burgesspowell.medium.com)\n",
      "        19 points by bhalina 41 minutes ago  | hide | 19&nbsp;comments              \n",
      "      \n",
      "                \n",
      "      4.      Temporal: Getting started with JavaScript's new date time API (2ality.com)\n",
      "        189 points by Amorymeltzer 5 hours ago  | hide | 88&nbsp;comments              \n",
      "      \n",
      "                \n",
      "      5.      Show HN: Anki alternative with integrated notes and import/export (get21stnight.com)\n",
      "        60 points by klevertree 4 hours ago  | hide | 51&nbsp;comments              \n",
      "      \n",
      "                \n",
      "      6.      Show HN: The Sample – newsletters curated for you with machine learning (findka.com)\n",
      "        12 points by jacobobryant 1 hour ago  | hide | 2&nbsp;comments              \n",
      "      \n",
      "                \n",
      "      7.      The slow rise of robots in the data center (datacenterdynamics.com)\n",
      "        17 points by vanburen 2 hours ago  | hide | 4&nbsp;comments              \n",
      "      \n",
      "                \n",
      "      8.      Biohackers Take Aim at Big Pharma’s Stranglehold on Insulin (freethink.com)\n",
      "        131 points by HiroProtagonist 5 hours ago  | hide | 125&nbsp;comments              \n",
      "      \n",
      "                \n",
      "      9.      A Plea for Lean Software (1995) [pdf] (frantovo.cz)\n",
      "        105 points by dvfjsdhgfv 5 hours ago  | hide | 108&nbsp;comments              \n",
      "      \n",
      "                \n",
      "      10.      AmberBox Gunshot Detection (YC W16) Is Hiring (ycombinator.com)\n",
      "        1 hour ago | hide      \n",
      "      \n",
      "                \n",
      "      11.      Intel to Disable TSX by Default on More CPUs with New Microcode (phoronix.com)\n",
      "        29 points by pella 1 hour ago  | hide | 15&nbsp;comments              \n",
      "      \n",
      "                \n",
      "      12.      FCA bans largest crypto-currency exchange Binance (bbc.com)\n",
      "        394 points by lakis 14 hours ago  | hide | 154&nbsp;comments              \n",
      "      \n",
      "                \n",
      "      13.      Data-oriented design or why you might shoot yourself in the foot with OOP (2009) (gamesfromwithin.com)\n",
      "        194 points by tempodox 12 hours ago  | hide | 231&nbsp;comments              \n",
      "      \n",
      "                \n",
      "      14.      Dear Google: Public domain compositions exist (dbmiller.org)\n",
      "        543 points by mod50ack 9 hours ago  | hide | 149&nbsp;comments              \n",
      "      \n",
      "                \n",
      "      15.      Lambda Calculus Examples (2009) [pdf] (uci.edu)\n",
      "        103 points by alphanumeric0 9 hours ago  | hide | 16&nbsp;comments              \n",
      "      \n",
      "                \n",
      "      16.      This Chemical Does Not Exist (thischemicaldoesnotexist.com)\n",
      "        32 points by optimalsolver 3 hours ago  | hide | 29&nbsp;comments              \n",
      "      \n",
      "                \n",
      "      17.      Re-counting the cognitive history of numerals (mitpress.mit.edu)\n",
      "        15 points by anarbadalov 4 hours ago  | hide | discuss              \n",
      "      \n",
      "                \n",
      "      18.      Why mimicking a device is becoming almost impossible (multilogin.com)\n",
      "        253 points by zdw 13 hours ago  | hide | 159&nbsp;comments              \n",
      "      \n",
      "                \n",
      "      19.      Google no longer requires AMP, but the replacement might be worse (theregister.com)\n",
      "        129 points by pseudolus 4 hours ago  | hide | 123&nbsp;comments              \n",
      "      \n",
      "                \n",
      "      20.      Welcome to the Golden Age of Masa (epicurious.com)\n",
      "        38 points by sytelus 4 hours ago  | hide | 39&nbsp;comments              \n",
      "      \n",
      "                \n",
      "      21.      The Launch Landscape: Small Rockets (spacedotbiz.substack.com)\n",
      "        37 points by slyall 5 hours ago  | hide | 31&nbsp;comments              \n",
      "      \n",
      "                \n",
      "      22.      Dr. Software – Refactoring from OOP to FP [pdf] (bitgloss.ro)\n",
      "        134 points by dragosslujeru 12 hours ago  | hide | 26&nbsp;comments              \n",
      "      \n",
      "                \n",
      "      23.      The Lightness of Windows (stratechery.com)\n",
      "        114 points by ingve 4 hours ago  | hide | 198&nbsp;comments              \n",
      "      \n",
      "                \n",
      "      24.      Circling–or cycling–the track at F1’s famous Circuit of the Americas (arstechnica.com)\n",
      "        67 points by Tomte 8 hours ago  | hide | 33&nbsp;comments              \n",
      "      \n",
      "                \n",
      "      25.      Ranking the Four Approaches to Compound Components, from Worst to Best (jesseduffield.com)\n",
      "        33 points by genericlemon24 7 hours ago  | hide | 19&nbsp;comments              \n",
      "      \n",
      "                \n",
      "      26.      Sriracha sauce hits $150M+/Y with no sales team, no trademark and $0 in ad spend (twitter.com/trungtphan)\n",
      "        658 points by dsr12 13 hours ago  | hide | 384&nbsp;comments              \n",
      "      \n",
      "                \n",
      "      27.      Subdomains for IPFS (ipds.io)\n",
      "        83 points by dumitruflorin 7 hours ago  | hide | 33&nbsp;comments              \n",
      "      \n",
      "                \n",
      "      28.      Teaching Machines: the history of personalized learning (mitpress.mit.edu)\n",
      "        41 points by adrian_mrd 10 hours ago  | hide | 7&nbsp;comments              \n",
      "      \n",
      "                \n",
      "      29.      China releases videos of its Zhurong Mars rover (bbc.com)\n",
      "        154 points by pseudolus 8 hours ago  | hide | 81&nbsp;comments              \n",
      "      \n",
      "                \n",
      "      30.      I Will Never Use a Microsoft Account to Log Into My Own PC (extremetech.com)\n",
      "        765 points by terseus 8 hours ago  | hide | 551&nbsp;comments              \n",
      "      \n",
      "            More\n",
      "  \n",
      "\n",
      "Guidelines\n",
      "        | FAQ\n",
      "        | Lists\n",
      "        | API\n",
      "        | Security\n",
      "        | Legal\n",
      "        | Apply to YC\n",
      "        | ContactSearch:\n",
      "          \n",
      "            \n",
      "      \n",
      "\n"
     ]
    }
   ],
   "source": [
    "import re\n",
    "\n",
    "# Remove HTML tags using RegEx\n",
    "pattern = re.compile(r'<.*?>')  # tags look like <...>\n",
    "print(pattern.sub('', r.text))  # replace them with blank"
   ]
  },
  {
   "cell_type": "code",
   "execution_count": 6,
   "metadata": {},
   "outputs": [
    {
     "name": "stdout",
     "output_type": "stream",
     "text": [
      "\n",
      "        \n",
      "          \n",
      "        Hacker News\n",
      "        \n",
      "                  Hacker News\n",
      "              new | past | comments | ask | show | jobs | submit            \n",
      "                              login\n",
      "                          \n",
      "              \n",
      "\n",
      "              \n",
      "      1.      SafeDollar ‘stablecoin’ drops to $0 following $248,000 DeFi exploit on Polygon (cryptoslate.com)\n",
      "        189 points by awb 1 hour ago  | hide | 148 comments              \n",
      "      \n",
      "                \n",
      "      2.      An Announcement About the Comment Section (blogs.sciencemag.org)\n",
      "        21 points by raphlinus 26 minutes ago  | hide | 11 comments              \n",
      "      \n",
      "                \n",
      "      3.      The Reign of Introverts Is Here (burgesspowell.medium.com)\n",
      "        19 points by bhalina 41 minutes ago  | hide | 19 comments              \n",
      "      \n",
      "                \n",
      "      4.      Temporal: Getting started with JavaScript's new date time API (2ality.com)\n",
      "        189 points by Amorymeltzer 5 hours ago  | hide | 88 comments              \n",
      "      \n",
      "                \n",
      "      5.      Show HN: Anki alternative with integrated notes and import/export (get21stnight.com)\n",
      "        60 points by klevertree 4 hours ago  | hide | 51 comments              \n",
      "      \n",
      "                \n",
      "      6.      Show HN: The Sample – newsletters curated for you with machine learning (findka.com)\n",
      "        12 points by jacobobryant 1 hour ago  | hide | 2 comments              \n",
      "      \n",
      "                \n",
      "      7.      The slow rise of robots in the data center (datacenterdynamics.com)\n",
      "        17 points by vanburen 2 hours ago  | hide | 4 comments              \n",
      "      \n",
      "                \n",
      "      8.      Biohackers Take Aim at Big Pharma’s Stranglehold on Insulin (freethink.com)\n",
      "        131 points by HiroProtagonist 5 hours ago  | hide | 125 comments              \n",
      "      \n",
      "                \n",
      "      9.      A Plea for Lean Software (1995) [pdf] (frantovo.cz)\n",
      "        105 points by dvfjsdhgfv 5 hours ago  | hide | 108 comments              \n",
      "      \n",
      "                \n",
      "      10.      AmberBox Gunshot Detection (YC W16) Is Hiring (ycombinator.com)\n",
      "        1 hour ago | hide      \n",
      "      \n",
      "                \n",
      "      11.      Intel to Disable TSX by Default on More CPUs with New Microcode (phoronix.com)\n",
      "        29 points by pella 1 hour ago  | hide | 15 comments              \n",
      "      \n",
      "                \n",
      "      12.      FCA bans largest crypto-currency exchange Binance (bbc.com)\n",
      "        394 points by lakis 14 hours ago  | hide | 154 comments              \n",
      "      \n",
      "                \n",
      "      13.      Data-oriented design or why you might shoot yourself in the foot with OOP (2009) (gamesfromwithin.com)\n",
      "        194 points by tempodox 12 hours ago  | hide | 231 comments              \n",
      "      \n",
      "                \n",
      "      14.      Dear Google: Public domain compositions exist (dbmiller.org)\n",
      "        543 points by mod50ack 9 hours ago  | hide | 149 comments              \n",
      "      \n",
      "                \n",
      "      15.      Lambda Calculus Examples (2009) [pdf] (uci.edu)\n",
      "        103 points by alphanumeric0 9 hours ago  | hide | 16 comments              \n",
      "      \n",
      "                \n",
      "      16.      This Chemical Does Not Exist (thischemicaldoesnotexist.com)\n",
      "        32 points by optimalsolver 3 hours ago  | hide | 29 comments              \n",
      "      \n",
      "                \n",
      "      17.      Re-counting the cognitive history of numerals (mitpress.mit.edu)\n",
      "        15 points by anarbadalov 4 hours ago  | hide | discuss              \n",
      "      \n",
      "                \n",
      "      18.      Why mimicking a device is becoming almost impossible (multilogin.com)\n",
      "        253 points by zdw 13 hours ago  | hide | 159 comments              \n",
      "      \n",
      "                \n",
      "      19.      Google no longer requires AMP, but the replacement might be worse (theregister.com)\n",
      "        129 points by pseudolus 4 hours ago  | hide | 123 comments              \n",
      "      \n",
      "                \n",
      "      20.      Welcome to the Golden Age of Masa (epicurious.com)\n",
      "        38 points by sytelus 4 hours ago  | hide | 39 comments              \n",
      "      \n",
      "                \n",
      "      21.      The Launch Landscape: Small Rockets (spacedotbiz.substack.com)\n",
      "        37 points by slyall 5 hours ago  | hide | 31 comments              \n",
      "      \n",
      "                \n",
      "      22.      Dr. Software – Refactoring from OOP to FP [pdf] (bitgloss.ro)\n",
      "        134 points by dragosslujeru 12 hours ago  | hide | 26 comments              \n",
      "      \n",
      "                \n",
      "      23.      The Lightness of Windows (stratechery.com)\n",
      "        114 points by ingve 4 hours ago  | hide | 198 comments              \n",
      "      \n",
      "                \n",
      "      24.      Circling–or cycling–the track at F1’s famous Circuit of the Americas (arstechnica.com)\n",
      "        67 points by Tomte 8 hours ago  | hide | 33 comments              \n",
      "      \n",
      "                \n",
      "      25.      Ranking the Four Approaches to Compound Components, from Worst to Best (jesseduffield.com)\n",
      "        33 points by genericlemon24 7 hours ago  | hide | 19 comments              \n",
      "      \n",
      "                \n",
      "      26.      Sriracha sauce hits $150M+/Y with no sales team, no trademark and $0 in ad spend (twitter.com/trungtphan)\n",
      "        658 points by dsr12 13 hours ago  | hide | 384 comments              \n",
      "      \n",
      "                \n",
      "      27.      Subdomains for IPFS (ipds.io)\n",
      "        83 points by dumitruflorin 7 hours ago  | hide | 33 comments              \n",
      "      \n",
      "                \n",
      "      28.      Teaching Machines: the history of personalized learning (mitpress.mit.edu)\n",
      "        41 points by adrian_mrd 10 hours ago  | hide | 7 comments              \n",
      "      \n",
      "                \n",
      "      29.      China releases videos of its Zhurong Mars rover (bbc.com)\n",
      "        154 points by pseudolus 8 hours ago  | hide | 81 comments              \n",
      "      \n",
      "                \n",
      "      30.      I Will Never Use a Microsoft Account to Log Into My Own PC (extremetech.com)\n",
      "        765 points by terseus 8 hours ago  | hide | 551 comments              \n",
      "      \n",
      "            More\n",
      "  \n",
      "\n",
      "Guidelines\n",
      "        | FAQ\n",
      "        | Lists\n",
      "        | API\n",
      "        | Security\n",
      "        | Legal\n",
      "        | Apply to YC\n",
      "        | ContactSearch:\n",
      "          \n",
      "            \n",
      "      \n",
      "\n"
     ]
    }
   ],
   "source": [
    "from bs4 import BeautifulSoup\n",
    "\n",
    "# Remove HTML tags using Beautiful Soup library\n",
    "soup = BeautifulSoup(r.text, \"html5lib\")\n",
    "print(soup.get_text())"
   ]
  },
  {
   "cell_type": "code",
   "execution_count": 7,
   "metadata": {
    "scrolled": true
   },
   "outputs": [
    {
     "data": {
      "text/plain": [
       "<tr class=\"athing\" id=\"27664911\">\n",
       "      <td align=\"right\" class=\"title\" valign=\"top\"><span class=\"rank\">1.</span></td>      <td class=\"votelinks\" valign=\"top\"><center><a href=\"vote?id=27664911&amp;how=up&amp;goto=news\" id=\"up_27664911\"><div class=\"votearrow\" title=\"upvote\"></div></a></center></td><td class=\"title\"><a class=\"storylink\" href=\"https://cryptoslate.com/safedollar-stablecoin-drops-to-0-following-248000-defi-exploit-on-polygon/\">SafeDollar ‘stablecoin’ drops to $0 following $248,000 DeFi exploit on Polygon</a><span class=\"sitebit comhead\"> (<a href=\"from?site=cryptoslate.com\"><span class=\"sitestr\">cryptoslate.com</span></a>)</span></td></tr>"
      ]
     },
     "execution_count": 7,
     "metadata": {},
     "output_type": "execute_result"
    }
   ],
   "source": [
    "# Find all articles\n",
    "summaries = soup.find_all(\"tr\", class_=\"athing\")\n",
    "summaries[0]"
   ]
  },
  {
   "cell_type": "code",
   "execution_count": 8,
   "metadata": {},
   "outputs": [
    {
     "data": {
      "text/plain": [
       "'SafeDollar ‘stablecoin’ drops to $0 following $248,000 DeFi exploit on Polygon'"
      ]
     },
     "execution_count": 8,
     "metadata": {},
     "output_type": "execute_result"
    }
   ],
   "source": [
    "# Extract title\n",
    "summaries[0].find(\"a\", class_=\"storylink\").get_text().strip()"
   ]
  },
  {
   "cell_type": "code",
   "execution_count": 9,
   "metadata": {},
   "outputs": [
    {
     "name": "stdout",
     "output_type": "stream",
     "text": [
      "30 Article summaries found. Sample:\n",
      "SafeDollar ‘stablecoin’ drops to $0 following $248,000 DeFi exploit on Polygon\n"
     ]
    }
   ],
   "source": [
    "# Find all articles, extract titles\n",
    "articles = []\n",
    "summaries = soup.find_all(\"tr\", class_=\"athing\")\n",
    "for summary in summaries:\n",
    "    title = summary.find(\"a\", class_=\"storylink\").get_text().strip()\n",
    "    articles.append((title))\n",
    "\n",
    "print(len(articles), \"Article summaries found. Sample:\")\n",
    "print(articles[0])"
   ]
  },
  {
   "cell_type": "markdown",
   "metadata": {
    "collapsed": true
   },
   "source": [
    "## Normalization"
   ]
  },
  {
   "cell_type": "markdown",
   "metadata": {},
   "source": [
    "### Case Normalization"
   ]
  },
  {
   "cell_type": "code",
   "execution_count": 10,
   "metadata": {},
   "outputs": [
    {
     "name": "stdout",
     "output_type": "stream",
     "text": [
      "The first time you see The Second Renaissance it may look boring. Look at it at least twice and definitely watch part 2. It will change your view of the matrix. Are the human people the ones who started the war ? Is AI a bad thing ?\n"
     ]
    }
   ],
   "source": [
    "# Sample text\n",
    "text = \"The first time you see The Second Renaissance it may look boring. Look at it at least twice and definitely watch part 2. It will change your view of the matrix. Are the human people the ones who started the war ? Is AI a bad thing ?\"\n",
    "print(text)"
   ]
  },
  {
   "cell_type": "code",
   "execution_count": 11,
   "metadata": {},
   "outputs": [
    {
     "name": "stdout",
     "output_type": "stream",
     "text": [
      "the first time you see the second renaissance it may look boring. look at it at least twice and definitely watch part 2. it will change your view of the matrix. are the human people the ones who started the war ? is ai a bad thing ?\n"
     ]
    }
   ],
   "source": [
    "# Convert to lowercase\n",
    "text = text.lower() \n",
    "print(text)"
   ]
  },
  {
   "cell_type": "markdown",
   "metadata": {},
   "source": [
    "### Punctuation Removal"
   ]
  },
  {
   "cell_type": "code",
   "execution_count": 12,
   "metadata": {},
   "outputs": [
    {
     "name": "stdout",
     "output_type": "stream",
     "text": [
      "the first time you see the second renaissance it may look boring  look at it at least twice and definitely watch part 2  it will change your view of the matrix  are the human people the ones who started the war   is ai a bad thing  \n"
     ]
    }
   ],
   "source": [
    "import re\n",
    "\n",
    "# Remove punctuation characters\n",
    "text = re.sub(r\"[^a-zA-Z0-9]\", \" \", text) \n",
    "print(text)"
   ]
  },
  {
   "cell_type": "markdown",
   "metadata": {},
   "source": [
    "## Tokenization"
   ]
  },
  {
   "cell_type": "code",
   "execution_count": 13,
   "metadata": {},
   "outputs": [
    {
     "name": "stdout",
     "output_type": "stream",
     "text": [
      "['the', 'first', 'time', 'you', 'see', 'the', 'second', 'renaissance', 'it', 'may', 'look', 'boring', 'look', 'at', 'it', 'at', 'least', 'twice', 'and', 'definitely', 'watch', 'part', '2', 'it', 'will', 'change', 'your', 'view', 'of', 'the', 'matrix', 'are', 'the', 'human', 'people', 'the', 'ones', 'who', 'started', 'the', 'war', 'is', 'ai', 'a', 'bad', 'thing']\n"
     ]
    }
   ],
   "source": [
    "# Split text into tokens (words)\n",
    "words = text.split()\n",
    "print(words)"
   ]
  },
  {
   "cell_type": "markdown",
   "metadata": {},
   "source": [
    "### NLTK: Natural Language ToolKit"
   ]
  },
  {
   "cell_type": "code",
   "execution_count": 14,
   "metadata": {},
   "outputs": [],
   "source": [
    "import os\n",
    "import nltk\n",
    "nltk.data.path.append(os.path.join(os.getcwd(), \"nltk_data\"))"
   ]
  },
  {
   "cell_type": "code",
   "execution_count": 15,
   "metadata": {},
   "outputs": [
    {
     "name": "stdout",
     "output_type": "stream",
     "text": [
      "Dr. Smith graduated from the University of Washington. He later started an analytics firm called Lux, which catered to enterprise customers.\n"
     ]
    }
   ],
   "source": [
    "# Another sample text\n",
    "text = \"Dr. Smith graduated from the University of Washington. He later started an analytics firm called Lux, which catered to enterprise customers.\"\n",
    "print(text)"
   ]
  },
  {
   "cell_type": "code",
   "execution_count": 16,
   "metadata": {},
   "outputs": [
    {
     "name": "stdout",
     "output_type": "stream",
     "text": [
      "['Dr.', 'Smith', 'graduated', 'from', 'the', 'University', 'of', 'Washington', '.', 'He', 'later', 'started', 'an', 'analytics', 'firm', 'called', 'Lux', ',', 'which', 'catered', 'to', 'enterprise', 'customers', '.']\n"
     ]
    }
   ],
   "source": [
    "from nltk.tokenize import word_tokenize\n",
    "\n",
    "# Split text into words using NLTK\n",
    "words = word_tokenize(text)\n",
    "print(words)"
   ]
  },
  {
   "cell_type": "code",
   "execution_count": 17,
   "metadata": {},
   "outputs": [
    {
     "name": "stdout",
     "output_type": "stream",
     "text": [
      "['Dr. Smith graduated from the University of Washington.', 'He later started an analytics firm called Lux, which catered to enterprise customers.']\n"
     ]
    }
   ],
   "source": [
    "from nltk.tokenize import sent_tokenize\n",
    "\n",
    "# Split text into sentences\n",
    "sentences = sent_tokenize(text)\n",
    "print(sentences)"
   ]
  },
  {
   "cell_type": "code",
   "execution_count": 18,
   "metadata": {},
   "outputs": [
    {
     "name": "stdout",
     "output_type": "stream",
     "text": [
      "['i', 'me', 'my', 'myself', 'we', 'our', 'ours', 'ourselves', 'you', \"you're\", \"you've\", \"you'll\", \"you'd\", 'your', 'yours', 'yourself', 'yourselves', 'he', 'him', 'his', 'himself', 'she', \"she's\", 'her', 'hers', 'herself', 'it', \"it's\", 'its', 'itself', 'they', 'them', 'their', 'theirs', 'themselves', 'what', 'which', 'who', 'whom', 'this', 'that', \"that'll\", 'these', 'those', 'am', 'is', 'are', 'was', 'were', 'be', 'been', 'being', 'have', 'has', 'had', 'having', 'do', 'does', 'did', 'doing', 'a', 'an', 'the', 'and', 'but', 'if', 'or', 'because', 'as', 'until', 'while', 'of', 'at', 'by', 'for', 'with', 'about', 'against', 'between', 'into', 'through', 'during', 'before', 'after', 'above', 'below', 'to', 'from', 'up', 'down', 'in', 'out', 'on', 'off', 'over', 'under', 'again', 'further', 'then', 'once', 'here', 'there', 'when', 'where', 'why', 'how', 'all', 'any', 'both', 'each', 'few', 'more', 'most', 'other', 'some', 'such', 'no', 'nor', 'not', 'only', 'own', 'same', 'so', 'than', 'too', 'very', 's', 't', 'can', 'will', 'just', 'don', \"don't\", 'should', \"should've\", 'now', 'd', 'll', 'm', 'o', 're', 've', 'y', 'ain', 'aren', \"aren't\", 'couldn', \"couldn't\", 'didn', \"didn't\", 'doesn', \"doesn't\", 'hadn', \"hadn't\", 'hasn', \"hasn't\", 'haven', \"haven't\", 'isn', \"isn't\", 'ma', 'mightn', \"mightn't\", 'mustn', \"mustn't\", 'needn', \"needn't\", 'shan', \"shan't\", 'shouldn', \"shouldn't\", 'wasn', \"wasn't\", 'weren', \"weren't\", 'won', \"won't\", 'wouldn', \"wouldn't\"]\n"
     ]
    }
   ],
   "source": [
    "# List stop words\n",
    "from nltk.corpus import stopwords\n",
    "print(stopwords.words(\"english\"))"
   ]
  },
  {
   "cell_type": "code",
   "execution_count": 19,
   "metadata": {},
   "outputs": [
    {
     "name": "stdout",
     "output_type": "stream",
     "text": [
      "['the', 'first', 'time', 'you', 'see', 'the', 'second', 'renaissance', 'it', 'may', 'look', 'boring', 'look', 'at', 'it', 'at', 'least', 'twice', 'and', 'definitely', 'watch', 'part', '2', 'it', 'will', 'change', 'your', 'view', 'of', 'the', 'matrix', 'are', 'the', 'human', 'people', 'the', 'ones', 'who', 'started', 'the', 'war', 'is', 'ai', 'a', 'bad', 'thing']\n"
     ]
    }
   ],
   "source": [
    "# Reset text\n",
    "text = \"The first time you see The Second Renaissance it may look boring. Look at it at least twice and definitely watch part 2. It will change your view of the matrix. Are the human people the ones who started the war ? Is AI a bad thing ?\"\n",
    "\n",
    "# Normalize it\n",
    "text = re.sub(r\"[^a-zA-Z0-9]\", \" \", text.lower())\n",
    "\n",
    "# Tokenize it\n",
    "words = text.split()\n",
    "print(words)"
   ]
  },
  {
   "cell_type": "code",
   "execution_count": 20,
   "metadata": {},
   "outputs": [
    {
     "name": "stdout",
     "output_type": "stream",
     "text": [
      "['first', 'time', 'see', 'second', 'renaissance', 'may', 'look', 'boring', 'look', 'least', 'twice', 'definitely', 'watch', 'part', '2', 'change', 'view', 'matrix', 'human', 'people', 'ones', 'started', 'war', 'ai', 'bad', 'thing']\n"
     ]
    }
   ],
   "source": [
    "# Remove stop words\n",
    "words = [w for w in words if w not in stopwords.words(\"english\")]\n",
    "print(words)"
   ]
  },
  {
   "cell_type": "markdown",
   "metadata": {},
   "source": [
    "### Sentence Parsing"
   ]
  },
  {
   "cell_type": "code",
   "execution_count": 21,
   "metadata": {},
   "outputs": [
    {
     "name": "stdout",
     "output_type": "stream",
     "text": [
      "(S\n",
      "  (NP I)\n",
      "  (VP\n",
      "    (VP (V shot) (NP (Det an) (N elephant)))\n",
      "    (PP (P in) (NP (Det my) (N pajamas)))))\n",
      "(S\n",
      "  (NP I)\n",
      "  (VP\n",
      "    (V shot)\n",
      "    (NP (Det an) (N elephant) (PP (P in) (NP (Det my) (N pajamas))))))\n"
     ]
    }
   ],
   "source": [
    "import nltk\n",
    "\n",
    "# Define a custom grammar\n",
    "my_grammar = nltk.CFG.fromstring(\"\"\"\n",
    "S -> NP VP\n",
    "PP -> P NP\n",
    "NP -> Det N | Det N PP | 'I'\n",
    "VP -> V NP | VP PP\n",
    "Det -> 'an' | 'my'\n",
    "N -> 'elephant' | 'pajamas'\n",
    "V -> 'shot'\n",
    "P -> 'in'\n",
    "\"\"\")\n",
    "parser = nltk.ChartParser(my_grammar)\n",
    "\n",
    "# Parse a sentence\n",
    "sentence = word_tokenize(\"I shot an elephant in my pajamas\")\n",
    "for tree in parser.parse(sentence):\n",
    "    print(tree)"
   ]
  },
  {
   "cell_type": "markdown",
   "metadata": {},
   "source": [
    "## Stemming & Lemmatization\n",
    "\n",
    "### Stemming"
   ]
  },
  {
   "cell_type": "code",
   "execution_count": 22,
   "metadata": {},
   "outputs": [
    {
     "name": "stdout",
     "output_type": "stream",
     "text": [
      "['first', 'time', 'see', 'second', 'renaiss', 'may', 'look', 'bore', 'look', 'least', 'twice', 'definit', 'watch', 'part', '2', 'chang', 'view', 'matrix', 'human', 'peopl', 'one', 'start', 'war', 'ai', 'bad', 'thing']\n"
     ]
    }
   ],
   "source": [
    "from nltk.stem.porter import PorterStemmer\n",
    "\n",
    "# Reduce words to their stems\n",
    "stemmed = [PorterStemmer().stem(w) for w in words]\n",
    "print(stemmed)"
   ]
  },
  {
   "cell_type": "markdown",
   "metadata": {},
   "source": [
    "### Lemmatization"
   ]
  },
  {
   "cell_type": "code",
   "execution_count": 23,
   "metadata": {},
   "outputs": [
    {
     "name": "stdout",
     "output_type": "stream",
     "text": [
      "['first', 'time', 'see', 'second', 'renaissance', 'may', 'look', 'boring', 'look', 'least', 'twice', 'definitely', 'watch', 'part', '2', 'change', 'view', 'matrix', 'human', 'people', 'one', 'started', 'war', 'ai', 'bad', 'thing']\n"
     ]
    }
   ],
   "source": [
    "from nltk.stem.wordnet import WordNetLemmatizer\n",
    "\n",
    "# Reduce words to their root form\n",
    "lemmed = [WordNetLemmatizer().lemmatize(w) for w in words]\n",
    "print(lemmed)"
   ]
  },
  {
   "cell_type": "code",
   "execution_count": 24,
   "metadata": {},
   "outputs": [
    {
     "name": "stdout",
     "output_type": "stream",
     "text": [
      "['first', 'time', 'see', 'second', 'renaissance', 'may', 'look', 'bore', 'look', 'least', 'twice', 'definitely', 'watch', 'part', '2', 'change', 'view', 'matrix', 'human', 'people', 'one', 'start', 'war', 'ai', 'bad', 'thing']\n"
     ]
    }
   ],
   "source": [
    "# Lemmatize verbs by specifying pos\n",
    "lemmed = [WordNetLemmatizer().lemmatize(w, pos='v') for w in lemmed]\n",
    "print(lemmed)"
   ]
  },
  {
   "cell_type": "code",
   "execution_count": null,
   "metadata": {},
   "outputs": [],
   "source": []
  }
 ],
 "metadata": {
  "kernelspec": {
   "display_name": "Python 3",
   "language": "python",
   "name": "python3"
  },
  "language_info": {
   "codemirror_mode": {
    "name": "ipython",
    "version": 3
   },
   "file_extension": ".py",
   "mimetype": "text/x-python",
   "name": "python",
   "nbconvert_exporter": "python",
   "pygments_lexer": "ipython3",
   "version": "3.6.3"
  }
 },
 "nbformat": 4,
 "nbformat_minor": 2
}
