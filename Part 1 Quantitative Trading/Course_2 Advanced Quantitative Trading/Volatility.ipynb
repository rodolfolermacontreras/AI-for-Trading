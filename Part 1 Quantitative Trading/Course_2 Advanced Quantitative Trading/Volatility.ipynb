{
 "cells": [
  {
   "cell_type": "code",
   "execution_count": 1,
   "metadata": {},
   "outputs": [],
   "source": [
    "import pandas as pd\n",
    "import numpy as np\n",
    "\n",
    "def get_most_volatile(prices):\n",
    "    \"\"\"Return the ticker symbol for the most volatile stock.\n",
    "    \n",
    "    Parameters\n",
    "    ----------\n",
    "    prices : pandas.DataFrame\n",
    "        a pandas.DataFrame object with columns: ['ticker', 'date', 'price']\n",
    "    \n",
    "    Returns\n",
    "    -------\n",
    "    ticker : string\n",
    "        ticker symbol for the most volatile stock\n",
    "    \"\"\"\n",
    "    # TODO: Fill in this function.\n",
    "    f = prices.groupby('ticker')[['price']].std()\n",
    "    max_index = f['price'].idxmax()\n",
    "    return max_index\n",
    "\n",
    "\n",
    "# def test_run(filename='prices.csv'):\n",
    "#     \"\"\"Test run get_most_volatile() with stock prices from a file.\"\"\"\n",
    "#     prices = pd.read_csv(filename, parse_dates=['date'])\n",
    "#     print(\"Most volatile stock: {}\".format(get_most_volatile(prices)))\n",
    "\n",
    "# if __name__ == '__main__':\n",
    "#     test_run()"
   ]
  }
 ],
 "metadata": {
  "kernelspec": {
   "display_name": "Python 3",
   "language": "python",
   "name": "python3"
  },
  "language_info": {
   "codemirror_mode": {
    "name": "ipython",
    "version": 3
   },
   "file_extension": ".py",
   "mimetype": "text/x-python",
   "name": "python",
   "nbconvert_exporter": "python",
   "pygments_lexer": "ipython3",
   "version": "3.7.3"
  }
 },
 "nbformat": 4,
 "nbformat_minor": 2
}
