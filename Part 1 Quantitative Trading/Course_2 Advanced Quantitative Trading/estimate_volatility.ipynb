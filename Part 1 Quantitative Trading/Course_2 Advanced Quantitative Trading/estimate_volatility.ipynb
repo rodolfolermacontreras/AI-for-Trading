{
 "cells": [
  {
   "cell_type": "code",
   "execution_count": 3,
   "metadata": {},
   "outputs": [
    {
     "data": {
      "text/plain": [
       "0.005331220958510943"
      ]
     },
     "execution_count": 3,
     "metadata": {},
     "output_type": "execute_result"
    }
   ],
   "source": [
    "import pandas as pd\n",
    "import numpy as np\n",
    "\n",
    "def estimate_volatility(datafile, l):\n",
    "    \"\"\"Create an exponential moving average model of the volatility of a stock\n",
    "    price, and return the most recent (last) volatility estimate.\n",
    "    \n",
    "    Parameters\n",
    "    ----------\n",
    "    prices : pandas.Series\n",
    "        A series of adjusted closing prices for a stock.\n",
    "        \n",
    "    l : float\n",
    "        The 'lambda' parameter of the exponential moving average model. Making\n",
    "        this value smaller will cause the model to weight older terms less \n",
    "        relative to more recent terms.\n",
    "        \n",
    "    Returns\n",
    "    -------\n",
    "    last_vol : float\n",
    "        The last element of your exponential moving averge volatility model series.\n",
    "    \n",
    "    \"\"\"\n",
    "    # TODO: Implement the exponential moving average volatility model and return the last value.\n",
    "    filename = datafile\n",
    "    prices = pd.read_csv(filename, parse_dates=['date'], index_col='date', squeeze=True)\n",
    "    returns = np.log(prices / prices.shift(-1))\n",
    "\n",
    "    # Udacity helper is telling us to use .ewm from pandas. \n",
    "    # Documentation is : https://pandas.pydata.org/pandas-docs/stable/user_guide/computation.html\n",
    "    # Reading the documentation we realise that the weight there is (1 - alpha) for us this is l\n",
    "    # 1 - alpha = l ; alpha = 1 - l - this is the parameter we need to pass to the function\n",
    "\n",
    "    weighted_average_returns = returns.ewm(alpha=1-l).std()\n",
    "\n",
    "    return weighted_average_returns[-1]\n",
    "    \n",
    "\n",
    "x = estimate_volatility('prices.csv', 0.7)\n",
    "x"
   ]
  },
  {
   "cell_type": "code",
   "execution_count": 21,
   "metadata": {},
   "outputs": [
    {
     "data": {
      "text/plain": [
       "date\n",
       "2013-07-02    0.003304\n",
       "2013-07-03   -0.003272\n",
       "2013-07-05    0.004056\n",
       "2013-07-08   -0.004593\n",
       "2013-07-09    0.003635\n",
       "Name: price, dtype: float64"
      ]
     },
     "execution_count": 21,
     "metadata": {},
     "output_type": "execute_result"
    }
   ],
   "source": [
    "filename = 'prices.csv'\n",
    "prices = pd.read_csv(filename, parse_dates=['date'], index_col='date', squeeze=True)\n",
    "returns = np.log(prices / prices.shift(-1))\n",
    "returns.head()\n",
    "    # Udacity helper is telling us to use .ewm from pandas. \n",
    "    # Documentation is : https://pandas.pydata.org/pandas-docs/stable/user_guide/computation.html\n",
    "    # Reading the documentation we realise that the weight there is (1 - alpha) for us this is l\n",
    "    # 1 - alpha = l ; alpha = 1 - l - this is the parameter we need to pass to the function"
   ]
  },
  {
   "cell_type": "code",
   "execution_count": 22,
   "metadata": {},
   "outputs": [
    {
     "data": {
      "text/plain": [
       "date\n",
       "2013-07-02         NaN\n",
       "2013-07-03    0.004650\n",
       "2013-07-05    0.004146\n",
       "2013-07-08    0.004689\n",
       "2013-07-09    0.004421\n",
       "Name: price, dtype: float64"
      ]
     },
     "execution_count": 22,
     "metadata": {},
     "output_type": "execute_result"
    }
   ],
   "source": [
    "l = 0.7\n",
    "weighted_average_returns = returns.ewm(alpha=1-l).std()\n",
    "weighted_average_returns.head()"
   ]
  },
  {
   "cell_type": "code",
   "execution_count": 24,
   "metadata": {},
   "outputs": [
    {
     "data": {
      "text/plain": [
       "date\n",
       "2013-07-02         NaN\n",
       "2013-07-03    1.302543\n",
       "2013-07-05    1.067343\n",
       "2013-07-08    1.252103\n",
       "2013-07-09    1.295601\n",
       "Name: price, dtype: float64"
      ]
     },
     "execution_count": 24,
     "metadata": {},
     "output_type": "execute_result"
    }
   ],
   "source": [
    "wa = prices.ewm(alpha=1-l).std()\n",
    "wa.head()"
   ]
  },
  {
   "cell_type": "code",
   "execution_count": 20,
   "metadata": {},
   "outputs": [
    {
     "data": {
      "text/plain": [
       "0.005331220958510902"
      ]
     },
     "execution_count": 20,
     "metadata": {},
     "output_type": "execute_result"
    }
   ],
   "source": [
    "value = weighted_average_returns[-1]\n",
    "value"
   ]
  }
 ],
 "metadata": {
  "kernelspec": {
   "display_name": "Python 3",
   "language": "python",
   "name": "python3"
  },
  "language_info": {
   "codemirror_mode": {
    "name": "ipython",
    "version": 3
   },
   "file_extension": ".py",
   "mimetype": "text/x-python",
   "name": "python",
   "nbconvert_exporter": "python",
   "pygments_lexer": "ipython3",
   "version": "3.7.3"
  }
 },
 "nbformat": 4,
 "nbformat_minor": 2
}
