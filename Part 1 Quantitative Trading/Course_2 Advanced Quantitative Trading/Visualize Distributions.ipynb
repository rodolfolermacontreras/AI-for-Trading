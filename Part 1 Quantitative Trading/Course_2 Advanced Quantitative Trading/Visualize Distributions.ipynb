{
 "cells": [
  {
   "cell_type": "code",
   "execution_count": 1,
   "metadata": {},
   "outputs": [],
   "source": [
    "\"\"\"Visualize the distribution of different samples.\"\"\"\n",
    "\n",
    "import pandas as pd\n",
    "import matplotlib.pyplot as plt\n",
    "\n",
    "def plot_histogram(sample, title, bins=16, **kwargs):\n",
    "    \"\"\"Plot the histogram of a given sample of random values.\n",
    "\n",
    "    Parameters\n",
    "    ----------\n",
    "    sample : pandas.Series\n",
    "        raw values to build histogram\n",
    "    title : str\n",
    "        plot title/header\n",
    "    bins : int\n",
    "        number of bins in the histogram\n",
    "    kwargs : dict \n",
    "        any other keyword arguments for plotting (optional)\n",
    "    \"\"\"\n",
    "    # TODO: Plot histogram\n",
    "    df = sample.to_frame()\n",
    "    df.hist(bins = bins)\n",
    "    plt.title(title)\n",
    "    # TODO: show the plot\n",
    "    plt.show()\n",
    "    return plt\n",
    "\n",
    "\n",
    "# def test_run():\n",
    "#     \"\"\"Test run plot_histogram() with different samples.\"\"\"\n",
    "#     # Load and plot histograms of each sample\n",
    "#     # Note: Try plotting them one by one if it's taking too long\n",
    "#     A = pd.read_csv(\"A.csv\", header=None, squeeze=True)\n",
    "#     plot_histogram(A, title=\"Sample A\")\n",
    "    \n",
    "#     B = pd.read_csv(\"B.csv\", header=None, squeeze=True)\n",
    "#     plot_histogram(B, title=\"Sample B\")\n",
    "    \n",
    "#     C = pd.read_csv(\"C.csv\", header=None, squeeze=True)\n",
    "#     plot_histogram(C, title=\"Sample C\")\n",
    "    \n",
    "#     D = pd.read_csv(\"D.csv\", header=None, squeeze=True)\n",
    "#     plot_histogram(D, title=\"Sample D\")\n",
    "\n",
    "\n",
    "# if __name__ == '__main__':\n",
    "#     test_run()"
   ]
  }
 ],
 "metadata": {
  "kernelspec": {
   "display_name": "Python 3",
   "language": "python",
   "name": "python3"
  },
  "language_info": {
   "codemirror_mode": {
    "name": "ipython",
    "version": 3
   },
   "file_extension": ".py",
   "mimetype": "text/x-python",
   "name": "python",
   "nbconvert_exporter": "python",
   "pygments_lexer": "ipython3",
   "version": "3.7.3"
  }
 },
 "nbformat": 4,
 "nbformat_minor": 2
}
