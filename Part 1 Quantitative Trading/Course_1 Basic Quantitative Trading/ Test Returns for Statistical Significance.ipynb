{
 "cells": [
  {
   "cell_type": "code",
   "execution_count": 1,
   "metadata": {},
   "outputs": [],
   "source": [
    "# import pandas as pd\n",
    "# import numpy as np\n",
    "# import scipy.stats as stats\n",
    "\n",
    "# def analyze_returns(net_returns):\n",
    "#     \"\"\"\n",
    "#     Perform a t-test, with the null hypothesis being that the mean return is zero.\n",
    "    \n",
    "#     Parameters\n",
    "#     ----------\n",
    "#     net_returns : Pandas Series\n",
    "#         A Pandas Series for each date\n",
    "    \n",
    "#     Returns\n",
    "#     -------\n",
    "#     t_value\n",
    "#         t-statistic from t-test\n",
    "#     p_value\n",
    "#         Corresponding p-value\n",
    "#     \"\"\"\n",
    "#     null_hypothesis = 0.0\n",
    "#     t, p  = stats.ttest_1samp(net_returns, null_hypothesis)\n",
    "#     #final_value = t_test_value/2\n",
    "#     # TODO: Perform one-tailed t-test on net_returns\n",
    "#     # Hint: You can use stats.ttest_1samp() to perform the test.\n",
    "#     #       However, this performs a two-tailed t-test.\n",
    "#     #       You'll need to divde the p-value by 2 to get the results of a one-tailed p-value.\n",
    "\n",
    "#     return t,p/2\n",
    "    \n",
    "# def test_run(filename='net_returns.csv'):\n",
    "#     \"\"\"Test run analyze_returns() with net strategy returns from a file.\"\"\"\n",
    "#     net_returns = pd.Series.from_csv(filename)\n",
    "#     final = net_returns[1:].tolist()\n",
    "#     x = pd.Series(final)\n",
    "#     x = pd.to_numeric(x)\n",
    "#     t, p = analyze_returns(x)\n",
    "#     print(\"t-statistic: {:.3f}\\np-value: {:.6f}\".format(t, p))\n",
    "\n",
    "\n",
    "# if __name__ == '__main__':\n",
    "#     test_run()"
   ]
  },
  {
   "cell_type": "code",
   "execution_count": 2,
   "metadata": {},
   "outputs": [],
   "source": [
    "import pandas as pd\n",
    "import numpy as np\n",
    "import scipy.stats as stats"
   ]
  },
  {
   "cell_type": "code",
   "execution_count": 3,
   "metadata": {},
   "outputs": [
    {
     "name": "stderr",
     "output_type": "stream",
     "text": [
      "C:\\Users\\ly266e\\AppData\\Local\\Continuum\\anaconda3\\lib\\site-packages\\pandas\\core\\series.py:4141: FutureWarning: from_csv is deprecated. Please use read_csv(...) instead. Note that some of the default arguments are different, so please refer to the documentation for from_csv when changing your function calls\n",
      "  infer_datetime_format=infer_datetime_format)\n"
     ]
    }
   ],
   "source": [
    "filename = 'net_returns.csv'\n",
    "net_returns = pd.Series.from_csv(filename)"
   ]
  },
  {
   "cell_type": "code",
   "execution_count": 4,
   "metadata": {},
   "outputs": [],
   "source": [
    "# # net_returns.head()\n",
    "# net_returns = pd.to_numeric(net_returns)"
   ]
  },
  {
   "cell_type": "code",
   "execution_count": 66,
   "metadata": {},
   "outputs": [
    {
     "data": {
      "text/plain": [
       "32"
      ]
     },
     "execution_count": 66,
     "metadata": {},
     "output_type": "execute_result"
    }
   ],
   "source": [
    "net = pd.DataFrame(data=net_returns[1:])\n",
    "v = net.shape\n",
    "v[0]"
   ]
  },
  {
   "cell_type": "code",
   "execution_count": 6,
   "metadata": {},
   "outputs": [],
   "source": [
    "final = net_returns[1:].tolist()"
   ]
  },
  {
   "cell_type": "code",
   "execution_count": 7,
   "metadata": {},
   "outputs": [],
   "source": [
    "final2 = pd.to_numeric(final)"
   ]
  },
  {
   "cell_type": "code",
   "execution_count": 8,
   "metadata": {},
   "outputs": [
    {
     "data": {
      "text/plain": [
       "array([ 0.01163552,  0.02195409,  0.04088727, -0.00251124,  0.01725862,\n",
       "        0.04169672,  0.0339731 ,  0.01180857, -0.03429671, -0.01800034,\n",
       "        0.04244859,  0.06048679,  0.00442544, -0.01112807,  0.03904059,\n",
       "       -0.01853476,  0.05149203,  0.00898728,  0.04030096, -0.07014814,\n",
       "       -0.037446  , -0.05765104,  0.05280791,  0.04813615,  0.01906976,\n",
       "        0.02369365, -0.02274948, -0.07743936,  0.03324799, -0.02091585,\n",
       "       -0.0695542 ,  0.00375888])"
      ]
     },
     "execution_count": 8,
     "metadata": {},
     "output_type": "execute_result"
    }
   ],
   "source": [
    "final2"
   ]
  },
  {
   "cell_type": "code",
   "execution_count": 9,
   "metadata": {},
   "outputs": [],
   "source": [
    "x = pd.Series(final)\n",
    "x = pd.to_numeric(x)"
   ]
  },
  {
   "cell_type": "code",
   "execution_count": 11,
   "metadata": {},
   "outputs": [],
   "source": [
    "null_hypothesis = 0.0\n",
    "t, p  = stats.ttest_1samp(x, null_hypothesis)"
   ]
  },
  {
   "cell_type": "code",
   "execution_count": 13,
   "metadata": {},
   "outputs": [
    {
     "data": {
      "text/html": [
       "<div>\n",
       "<style scoped>\n",
       "    .dataframe tbody tr th:only-of-type {\n",
       "        vertical-align: middle;\n",
       "    }\n",
       "\n",
       "    .dataframe tbody tr th {\n",
       "        vertical-align: top;\n",
       "    }\n",
       "\n",
       "    .dataframe thead th {\n",
       "        text-align: right;\n",
       "    }\n",
       "</style>\n",
       "<table border=\"1\" class=\"dataframe\">\n",
       "  <thead>\n",
       "    <tr style=\"text-align: right;\">\n",
       "      <th></th>\n",
       "      <th>date</th>\n",
       "      <th>return</th>\n",
       "    </tr>\n",
       "  </thead>\n",
       "  <tbody>\n",
       "    <tr>\n",
       "      <th>0</th>\n",
       "      <td>11/30/2014</td>\n",
       "      <td>0.011636</td>\n",
       "    </tr>\n",
       "    <tr>\n",
       "      <th>1</th>\n",
       "      <td>12/31/2014</td>\n",
       "      <td>0.021954</td>\n",
       "    </tr>\n",
       "    <tr>\n",
       "      <th>2</th>\n",
       "      <td>1/31/2015</td>\n",
       "      <td>0.040887</td>\n",
       "    </tr>\n",
       "    <tr>\n",
       "      <th>3</th>\n",
       "      <td>2/28/2015</td>\n",
       "      <td>-0.002511</td>\n",
       "    </tr>\n",
       "    <tr>\n",
       "      <th>4</th>\n",
       "      <td>3/31/2015</td>\n",
       "      <td>0.017259</td>\n",
       "    </tr>\n",
       "  </tbody>\n",
       "</table>\n",
       "</div>"
      ],
      "text/plain": [
       "         date    return\n",
       "0  11/30/2014  0.011636\n",
       "1  12/31/2014  0.021954\n",
       "2   1/31/2015  0.040887\n",
       "3   2/28/2015 -0.002511\n",
       "4   3/31/2015  0.017259"
      ]
     },
     "execution_count": 13,
     "metadata": {},
     "output_type": "execute_result"
    }
   ],
   "source": [
    "df = pd.read_csv(filename)\n",
    "df.head()"
   ]
  }
 ],
 "metadata": {
  "kernelspec": {
   "display_name": "Python 3",
   "language": "python",
   "name": "python3"
  },
  "language_info": {
   "codemirror_mode": {
    "name": "ipython",
    "version": 3
   },
   "file_extension": ".py",
   "mimetype": "text/x-python",
   "name": "python",
   "nbconvert_exporter": "python",
   "pygments_lexer": "ipython3",
   "version": "3.7.3"
  }
 },
 "nbformat": 4,
 "nbformat_minor": 2
}
